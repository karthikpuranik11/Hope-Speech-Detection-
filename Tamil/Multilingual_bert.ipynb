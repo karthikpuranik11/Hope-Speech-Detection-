{
  "nbformat": 4,
  "nbformat_minor": 0,
  "metadata": {
    "colab": {
      "name": "Hopespeech_multilingual_bert",
      "provenance": [],
      "authorship_tag": "ABX9TyMSxyMp1pfVSgYly4eetGdq",
      "include_colab_link": true
    },
    "kernelspec": {
      "name": "python3",
      "display_name": "Python 3"
    },
    "accelerator": "GPU",
    "widgets": {
      "application/vnd.jupyter.widget-state+json": {
        "121bd97bb890454680efc120f4b317d3": {
          "model_module": "@jupyter-widgets/controls",
          "model_name": "HBoxModel",
          "state": {
            "_view_name": "HBoxView",
            "_dom_classes": [],
            "_model_name": "HBoxModel",
            "_view_module": "@jupyter-widgets/controls",
            "_model_module_version": "1.5.0",
            "_view_count": null,
            "_view_module_version": "1.5.0",
            "box_style": "",
            "layout": "IPY_MODEL_cefc2e05e62c41e6a81e1f4bd6efe51a",
            "_model_module": "@jupyter-widgets/controls",
            "children": [
              "IPY_MODEL_e2bdf518fd7444ea9f0370a943e2fb78",
              "IPY_MODEL_008b3ad937f34e98a898783c70e273ad"
            ]
          }
        },
        "cefc2e05e62c41e6a81e1f4bd6efe51a": {
          "model_module": "@jupyter-widgets/base",
          "model_name": "LayoutModel",
          "state": {
            "_view_name": "LayoutView",
            "grid_template_rows": null,
            "right": null,
            "justify_content": null,
            "_view_module": "@jupyter-widgets/base",
            "overflow": null,
            "_model_module_version": "1.2.0",
            "_view_count": null,
            "flex_flow": null,
            "width": null,
            "min_width": null,
            "border": null,
            "align_items": null,
            "bottom": null,
            "_model_module": "@jupyter-widgets/base",
            "top": null,
            "grid_column": null,
            "overflow_y": null,
            "overflow_x": null,
            "grid_auto_flow": null,
            "grid_area": null,
            "grid_template_columns": null,
            "flex": null,
            "_model_name": "LayoutModel",
            "justify_items": null,
            "grid_row": null,
            "max_height": null,
            "align_content": null,
            "visibility": null,
            "align_self": null,
            "height": null,
            "min_height": null,
            "padding": null,
            "grid_auto_rows": null,
            "grid_gap": null,
            "max_width": null,
            "order": null,
            "_view_module_version": "1.2.0",
            "grid_template_areas": null,
            "object_position": null,
            "object_fit": null,
            "grid_auto_columns": null,
            "margin": null,
            "display": null,
            "left": null
          }
        },
        "e2bdf518fd7444ea9f0370a943e2fb78": {
          "model_module": "@jupyter-widgets/controls",
          "model_name": "FloatProgressModel",
          "state": {
            "_view_name": "ProgressView",
            "style": "IPY_MODEL_9b8d4325a4da4d8796096a383118a601",
            "_dom_classes": [],
            "description": "Downloading: 100%",
            "_model_name": "FloatProgressModel",
            "bar_style": "success",
            "max": 625,
            "_view_module": "@jupyter-widgets/controls",
            "_model_module_version": "1.5.0",
            "value": 625,
            "_view_count": null,
            "_view_module_version": "1.5.0",
            "orientation": "horizontal",
            "min": 0,
            "description_tooltip": null,
            "_model_module": "@jupyter-widgets/controls",
            "layout": "IPY_MODEL_70d0f2fe43f74c19a082789e9d2d4e14"
          }
        },
        "008b3ad937f34e98a898783c70e273ad": {
          "model_module": "@jupyter-widgets/controls",
          "model_name": "HTMLModel",
          "state": {
            "_view_name": "HTMLView",
            "style": "IPY_MODEL_ee65db721b88472188228a9e1c19ba83",
            "_dom_classes": [],
            "description": "",
            "_model_name": "HTMLModel",
            "placeholder": "​",
            "_view_module": "@jupyter-widgets/controls",
            "_model_module_version": "1.5.0",
            "value": " 625/625 [00:00&lt;00:00, 1.97kB/s]",
            "_view_count": null,
            "_view_module_version": "1.5.0",
            "description_tooltip": null,
            "_model_module": "@jupyter-widgets/controls",
            "layout": "IPY_MODEL_a3bdbbf04b7d496c861949bfbca4581e"
          }
        },
        "9b8d4325a4da4d8796096a383118a601": {
          "model_module": "@jupyter-widgets/controls",
          "model_name": "ProgressStyleModel",
          "state": {
            "_view_name": "StyleView",
            "_model_name": "ProgressStyleModel",
            "description_width": "initial",
            "_view_module": "@jupyter-widgets/base",
            "_model_module_version": "1.5.0",
            "_view_count": null,
            "_view_module_version": "1.2.0",
            "bar_color": null,
            "_model_module": "@jupyter-widgets/controls"
          }
        },
        "70d0f2fe43f74c19a082789e9d2d4e14": {
          "model_module": "@jupyter-widgets/base",
          "model_name": "LayoutModel",
          "state": {
            "_view_name": "LayoutView",
            "grid_template_rows": null,
            "right": null,
            "justify_content": null,
            "_view_module": "@jupyter-widgets/base",
            "overflow": null,
            "_model_module_version": "1.2.0",
            "_view_count": null,
            "flex_flow": null,
            "width": null,
            "min_width": null,
            "border": null,
            "align_items": null,
            "bottom": null,
            "_model_module": "@jupyter-widgets/base",
            "top": null,
            "grid_column": null,
            "overflow_y": null,
            "overflow_x": null,
            "grid_auto_flow": null,
            "grid_area": null,
            "grid_template_columns": null,
            "flex": null,
            "_model_name": "LayoutModel",
            "justify_items": null,
            "grid_row": null,
            "max_height": null,
            "align_content": null,
            "visibility": null,
            "align_self": null,
            "height": null,
            "min_height": null,
            "padding": null,
            "grid_auto_rows": null,
            "grid_gap": null,
            "max_width": null,
            "order": null,
            "_view_module_version": "1.2.0",
            "grid_template_areas": null,
            "object_position": null,
            "object_fit": null,
            "grid_auto_columns": null,
            "margin": null,
            "display": null,
            "left": null
          }
        },
        "ee65db721b88472188228a9e1c19ba83": {
          "model_module": "@jupyter-widgets/controls",
          "model_name": "DescriptionStyleModel",
          "state": {
            "_view_name": "StyleView",
            "_model_name": "DescriptionStyleModel",
            "description_width": "",
            "_view_module": "@jupyter-widgets/base",
            "_model_module_version": "1.5.0",
            "_view_count": null,
            "_view_module_version": "1.2.0",
            "_model_module": "@jupyter-widgets/controls"
          }
        },
        "a3bdbbf04b7d496c861949bfbca4581e": {
          "model_module": "@jupyter-widgets/base",
          "model_name": "LayoutModel",
          "state": {
            "_view_name": "LayoutView",
            "grid_template_rows": null,
            "right": null,
            "justify_content": null,
            "_view_module": "@jupyter-widgets/base",
            "overflow": null,
            "_model_module_version": "1.2.0",
            "_view_count": null,
            "flex_flow": null,
            "width": null,
            "min_width": null,
            "border": null,
            "align_items": null,
            "bottom": null,
            "_model_module": "@jupyter-widgets/base",
            "top": null,
            "grid_column": null,
            "overflow_y": null,
            "overflow_x": null,
            "grid_auto_flow": null,
            "grid_area": null,
            "grid_template_columns": null,
            "flex": null,
            "_model_name": "LayoutModel",
            "justify_items": null,
            "grid_row": null,
            "max_height": null,
            "align_content": null,
            "visibility": null,
            "align_self": null,
            "height": null,
            "min_height": null,
            "padding": null,
            "grid_auto_rows": null,
            "grid_gap": null,
            "max_width": null,
            "order": null,
            "_view_module_version": "1.2.0",
            "grid_template_areas": null,
            "object_position": null,
            "object_fit": null,
            "grid_auto_columns": null,
            "margin": null,
            "display": null,
            "left": null
          }
        },
        "7dcfa4b2e72243aea6013cee837f30dd": {
          "model_module": "@jupyter-widgets/controls",
          "model_name": "HBoxModel",
          "state": {
            "_view_name": "HBoxView",
            "_dom_classes": [],
            "_model_name": "HBoxModel",
            "_view_module": "@jupyter-widgets/controls",
            "_model_module_version": "1.5.0",
            "_view_count": null,
            "_view_module_version": "1.5.0",
            "box_style": "",
            "layout": "IPY_MODEL_907939a85c48422c913b5b664b4df7af",
            "_model_module": "@jupyter-widgets/controls",
            "children": [
              "IPY_MODEL_8c683a7ce1db4f56ba1d660c76c914bd",
              "IPY_MODEL_cf6792765e884b4b985be155a86c4752"
            ]
          }
        },
        "907939a85c48422c913b5b664b4df7af": {
          "model_module": "@jupyter-widgets/base",
          "model_name": "LayoutModel",
          "state": {
            "_view_name": "LayoutView",
            "grid_template_rows": null,
            "right": null,
            "justify_content": null,
            "_view_module": "@jupyter-widgets/base",
            "overflow": null,
            "_model_module_version": "1.2.0",
            "_view_count": null,
            "flex_flow": null,
            "width": null,
            "min_width": null,
            "border": null,
            "align_items": null,
            "bottom": null,
            "_model_module": "@jupyter-widgets/base",
            "top": null,
            "grid_column": null,
            "overflow_y": null,
            "overflow_x": null,
            "grid_auto_flow": null,
            "grid_area": null,
            "grid_template_columns": null,
            "flex": null,
            "_model_name": "LayoutModel",
            "justify_items": null,
            "grid_row": null,
            "max_height": null,
            "align_content": null,
            "visibility": null,
            "align_self": null,
            "height": null,
            "min_height": null,
            "padding": null,
            "grid_auto_rows": null,
            "grid_gap": null,
            "max_width": null,
            "order": null,
            "_view_module_version": "1.2.0",
            "grid_template_areas": null,
            "object_position": null,
            "object_fit": null,
            "grid_auto_columns": null,
            "margin": null,
            "display": null,
            "left": null
          }
        },
        "8c683a7ce1db4f56ba1d660c76c914bd": {
          "model_module": "@jupyter-widgets/controls",
          "model_name": "FloatProgressModel",
          "state": {
            "_view_name": "ProgressView",
            "style": "IPY_MODEL_713add56091e45d9ad37a3b0ec0fc3b6",
            "_dom_classes": [],
            "description": "Downloading: 100%",
            "_model_name": "FloatProgressModel",
            "bar_style": "success",
            "max": 995526,
            "_view_module": "@jupyter-widgets/controls",
            "_model_module_version": "1.5.0",
            "value": 995526,
            "_view_count": null,
            "_view_module_version": "1.5.0",
            "orientation": "horizontal",
            "min": 0,
            "description_tooltip": null,
            "_model_module": "@jupyter-widgets/controls",
            "layout": "IPY_MODEL_81ea9b6a347a4a7f89d758efc2b59118"
          }
        },
        "cf6792765e884b4b985be155a86c4752": {
          "model_module": "@jupyter-widgets/controls",
          "model_name": "HTMLModel",
          "state": {
            "_view_name": "HTMLView",
            "style": "IPY_MODEL_e4bbc859a496499e86d375484ec18834",
            "_dom_classes": [],
            "description": "",
            "_model_name": "HTMLModel",
            "placeholder": "​",
            "_view_module": "@jupyter-widgets/controls",
            "_model_module_version": "1.5.0",
            "value": " 996k/996k [00:00&lt;00:00, 2.21MB/s]",
            "_view_count": null,
            "_view_module_version": "1.5.0",
            "description_tooltip": null,
            "_model_module": "@jupyter-widgets/controls",
            "layout": "IPY_MODEL_0475638f745b406c9da0b47151f70be2"
          }
        },
        "713add56091e45d9ad37a3b0ec0fc3b6": {
          "model_module": "@jupyter-widgets/controls",
          "model_name": "ProgressStyleModel",
          "state": {
            "_view_name": "StyleView",
            "_model_name": "ProgressStyleModel",
            "description_width": "initial",
            "_view_module": "@jupyter-widgets/base",
            "_model_module_version": "1.5.0",
            "_view_count": null,
            "_view_module_version": "1.2.0",
            "bar_color": null,
            "_model_module": "@jupyter-widgets/controls"
          }
        },
        "81ea9b6a347a4a7f89d758efc2b59118": {
          "model_module": "@jupyter-widgets/base",
          "model_name": "LayoutModel",
          "state": {
            "_view_name": "LayoutView",
            "grid_template_rows": null,
            "right": null,
            "justify_content": null,
            "_view_module": "@jupyter-widgets/base",
            "overflow": null,
            "_model_module_version": "1.2.0",
            "_view_count": null,
            "flex_flow": null,
            "width": null,
            "min_width": null,
            "border": null,
            "align_items": null,
            "bottom": null,
            "_model_module": "@jupyter-widgets/base",
            "top": null,
            "grid_column": null,
            "overflow_y": null,
            "overflow_x": null,
            "grid_auto_flow": null,
            "grid_area": null,
            "grid_template_columns": null,
            "flex": null,
            "_model_name": "LayoutModel",
            "justify_items": null,
            "grid_row": null,
            "max_height": null,
            "align_content": null,
            "visibility": null,
            "align_self": null,
            "height": null,
            "min_height": null,
            "padding": null,
            "grid_auto_rows": null,
            "grid_gap": null,
            "max_width": null,
            "order": null,
            "_view_module_version": "1.2.0",
            "grid_template_areas": null,
            "object_position": null,
            "object_fit": null,
            "grid_auto_columns": null,
            "margin": null,
            "display": null,
            "left": null
          }
        },
        "e4bbc859a496499e86d375484ec18834": {
          "model_module": "@jupyter-widgets/controls",
          "model_name": "DescriptionStyleModel",
          "state": {
            "_view_name": "StyleView",
            "_model_name": "DescriptionStyleModel",
            "description_width": "",
            "_view_module": "@jupyter-widgets/base",
            "_model_module_version": "1.5.0",
            "_view_count": null,
            "_view_module_version": "1.2.0",
            "_model_module": "@jupyter-widgets/controls"
          }
        },
        "0475638f745b406c9da0b47151f70be2": {
          "model_module": "@jupyter-widgets/base",
          "model_name": "LayoutModel",
          "state": {
            "_view_name": "LayoutView",
            "grid_template_rows": null,
            "right": null,
            "justify_content": null,
            "_view_module": "@jupyter-widgets/base",
            "overflow": null,
            "_model_module_version": "1.2.0",
            "_view_count": null,
            "flex_flow": null,
            "width": null,
            "min_width": null,
            "border": null,
            "align_items": null,
            "bottom": null,
            "_model_module": "@jupyter-widgets/base",
            "top": null,
            "grid_column": null,
            "overflow_y": null,
            "overflow_x": null,
            "grid_auto_flow": null,
            "grid_area": null,
            "grid_template_columns": null,
            "flex": null,
            "_model_name": "LayoutModel",
            "justify_items": null,
            "grid_row": null,
            "max_height": null,
            "align_content": null,
            "visibility": null,
            "align_self": null,
            "height": null,
            "min_height": null,
            "padding": null,
            "grid_auto_rows": null,
            "grid_gap": null,
            "max_width": null,
            "order": null,
            "_view_module_version": "1.2.0",
            "grid_template_areas": null,
            "object_position": null,
            "object_fit": null,
            "grid_auto_columns": null,
            "margin": null,
            "display": null,
            "left": null
          }
        },
        "3ff3bd69f8f84525a82cf8dd5c0fc84c": {
          "model_module": "@jupyter-widgets/controls",
          "model_name": "HBoxModel",
          "state": {
            "_view_name": "HBoxView",
            "_dom_classes": [],
            "_model_name": "HBoxModel",
            "_view_module": "@jupyter-widgets/controls",
            "_model_module_version": "1.5.0",
            "_view_count": null,
            "_view_module_version": "1.5.0",
            "box_style": "",
            "layout": "IPY_MODEL_342f2834fe0140479c975cf2c3fc6b5e",
            "_model_module": "@jupyter-widgets/controls",
            "children": [
              "IPY_MODEL_c8b3c57f1e434055b6c677fed6d840b2",
              "IPY_MODEL_122108c10d714e539b94cca0e945878e"
            ]
          }
        },
        "342f2834fe0140479c975cf2c3fc6b5e": {
          "model_module": "@jupyter-widgets/base",
          "model_name": "LayoutModel",
          "state": {
            "_view_name": "LayoutView",
            "grid_template_rows": null,
            "right": null,
            "justify_content": null,
            "_view_module": "@jupyter-widgets/base",
            "overflow": null,
            "_model_module_version": "1.2.0",
            "_view_count": null,
            "flex_flow": null,
            "width": null,
            "min_width": null,
            "border": null,
            "align_items": null,
            "bottom": null,
            "_model_module": "@jupyter-widgets/base",
            "top": null,
            "grid_column": null,
            "overflow_y": null,
            "overflow_x": null,
            "grid_auto_flow": null,
            "grid_area": null,
            "grid_template_columns": null,
            "flex": null,
            "_model_name": "LayoutModel",
            "justify_items": null,
            "grid_row": null,
            "max_height": null,
            "align_content": null,
            "visibility": null,
            "align_self": null,
            "height": null,
            "min_height": null,
            "padding": null,
            "grid_auto_rows": null,
            "grid_gap": null,
            "max_width": null,
            "order": null,
            "_view_module_version": "1.2.0",
            "grid_template_areas": null,
            "object_position": null,
            "object_fit": null,
            "grid_auto_columns": null,
            "margin": null,
            "display": null,
            "left": null
          }
        },
        "c8b3c57f1e434055b6c677fed6d840b2": {
          "model_module": "@jupyter-widgets/controls",
          "model_name": "FloatProgressModel",
          "state": {
            "_view_name": "ProgressView",
            "style": "IPY_MODEL_9f3a85ca12794b29a23a574b2a281ee3",
            "_dom_classes": [],
            "description": "Downloading: 100%",
            "_model_name": "FloatProgressModel",
            "bar_style": "success",
            "max": 714314041,
            "_view_module": "@jupyter-widgets/controls",
            "_model_module_version": "1.5.0",
            "value": 714314041,
            "_view_count": null,
            "_view_module_version": "1.5.0",
            "orientation": "horizontal",
            "min": 0,
            "description_tooltip": null,
            "_model_module": "@jupyter-widgets/controls",
            "layout": "IPY_MODEL_674eb2e8817c47c1ba0ed91c9c82c6ef"
          }
        },
        "122108c10d714e539b94cca0e945878e": {
          "model_module": "@jupyter-widgets/controls",
          "model_name": "HTMLModel",
          "state": {
            "_view_name": "HTMLView",
            "style": "IPY_MODEL_df8c979c07234f10bb5960d7bada9605",
            "_dom_classes": [],
            "description": "",
            "_model_name": "HTMLModel",
            "placeholder": "​",
            "_view_module": "@jupyter-widgets/controls",
            "_model_module_version": "1.5.0",
            "value": " 714M/714M [00:12&lt;00:00, 59.0MB/s]",
            "_view_count": null,
            "_view_module_version": "1.5.0",
            "description_tooltip": null,
            "_model_module": "@jupyter-widgets/controls",
            "layout": "IPY_MODEL_97510fb9bf0c49a98c2b31dbfa77d537"
          }
        },
        "9f3a85ca12794b29a23a574b2a281ee3": {
          "model_module": "@jupyter-widgets/controls",
          "model_name": "ProgressStyleModel",
          "state": {
            "_view_name": "StyleView",
            "_model_name": "ProgressStyleModel",
            "description_width": "initial",
            "_view_module": "@jupyter-widgets/base",
            "_model_module_version": "1.5.0",
            "_view_count": null,
            "_view_module_version": "1.2.0",
            "bar_color": null,
            "_model_module": "@jupyter-widgets/controls"
          }
        },
        "674eb2e8817c47c1ba0ed91c9c82c6ef": {
          "model_module": "@jupyter-widgets/base",
          "model_name": "LayoutModel",
          "state": {
            "_view_name": "LayoutView",
            "grid_template_rows": null,
            "right": null,
            "justify_content": null,
            "_view_module": "@jupyter-widgets/base",
            "overflow": null,
            "_model_module_version": "1.2.0",
            "_view_count": null,
            "flex_flow": null,
            "width": null,
            "min_width": null,
            "border": null,
            "align_items": null,
            "bottom": null,
            "_model_module": "@jupyter-widgets/base",
            "top": null,
            "grid_column": null,
            "overflow_y": null,
            "overflow_x": null,
            "grid_auto_flow": null,
            "grid_area": null,
            "grid_template_columns": null,
            "flex": null,
            "_model_name": "LayoutModel",
            "justify_items": null,
            "grid_row": null,
            "max_height": null,
            "align_content": null,
            "visibility": null,
            "align_self": null,
            "height": null,
            "min_height": null,
            "padding": null,
            "grid_auto_rows": null,
            "grid_gap": null,
            "max_width": null,
            "order": null,
            "_view_module_version": "1.2.0",
            "grid_template_areas": null,
            "object_position": null,
            "object_fit": null,
            "grid_auto_columns": null,
            "margin": null,
            "display": null,
            "left": null
          }
        },
        "df8c979c07234f10bb5960d7bada9605": {
          "model_module": "@jupyter-widgets/controls",
          "model_name": "DescriptionStyleModel",
          "state": {
            "_view_name": "StyleView",
            "_model_name": "DescriptionStyleModel",
            "description_width": "",
            "_view_module": "@jupyter-widgets/base",
            "_model_module_version": "1.5.0",
            "_view_count": null,
            "_view_module_version": "1.2.0",
            "_model_module": "@jupyter-widgets/controls"
          }
        },
        "97510fb9bf0c49a98c2b31dbfa77d537": {
          "model_module": "@jupyter-widgets/base",
          "model_name": "LayoutModel",
          "state": {
            "_view_name": "LayoutView",
            "grid_template_rows": null,
            "right": null,
            "justify_content": null,
            "_view_module": "@jupyter-widgets/base",
            "overflow": null,
            "_model_module_version": "1.2.0",
            "_view_count": null,
            "flex_flow": null,
            "width": null,
            "min_width": null,
            "border": null,
            "align_items": null,
            "bottom": null,
            "_model_module": "@jupyter-widgets/base",
            "top": null,
            "grid_column": null,
            "overflow_y": null,
            "overflow_x": null,
            "grid_auto_flow": null,
            "grid_area": null,
            "grid_template_columns": null,
            "flex": null,
            "_model_name": "LayoutModel",
            "justify_items": null,
            "grid_row": null,
            "max_height": null,
            "align_content": null,
            "visibility": null,
            "align_self": null,
            "height": null,
            "min_height": null,
            "padding": null,
            "grid_auto_rows": null,
            "grid_gap": null,
            "max_width": null,
            "order": null,
            "_view_module_version": "1.2.0",
            "grid_template_areas": null,
            "object_position": null,
            "object_fit": null,
            "grid_auto_columns": null,
            "margin": null,
            "display": null,
            "left": null
          }
        }
      }
    }
  },
  "cells": [
    {
      "cell_type": "markdown",
      "metadata": {
        "id": "view-in-github",
        "colab_type": "text"
      },
      "source": [
        "<a href=\"https://colab.research.google.com/github/karthikpuranik11/Hope-Speech-Detection-/blob/main/Hopespeech_multilingual_bert.ipynb\" target=\"_parent\"><img src=\"https://colab.research.google.com/assets/colab-badge.svg\" alt=\"Open In Colab\"/></a>"
      ]
    },
    {
      "cell_type": "code",
      "metadata": {
        "colab": {
          "base_uri": "https://localhost:8080/"
        },
        "id": "qp9ne18LI0ZD",
        "outputId": "9e7fb0dd-87dc-4e19-bb0c-74570bf89d52"
      },
      "source": [
        "!pip install transformers==3.3.1"
      ],
      "execution_count": 1,
      "outputs": [
        {
          "output_type": "stream",
          "text": [
            "Collecting transformers==3.3.1\n",
            "\u001b[?25l  Downloading https://files.pythonhosted.org/packages/19/22/aff234f4a841f8999e68a7a94bdd4b60b4cebcfeca5d67d61cd08c9179de/transformers-3.3.1-py3-none-any.whl (1.1MB)\n",
            "\u001b[K     |████████████████████████████████| 1.1MB 8.8MB/s \n",
            "\u001b[?25hRequirement already satisfied: dataclasses; python_version < \"3.7\" in /usr/local/lib/python3.6/dist-packages (from transformers==3.3.1) (0.8)\n",
            "Collecting sacremoses\n",
            "\u001b[?25l  Downloading https://files.pythonhosted.org/packages/7d/34/09d19aff26edcc8eb2a01bed8e98f13a1537005d31e95233fd48216eed10/sacremoses-0.0.43.tar.gz (883kB)\n",
            "\u001b[K     |████████████████████████████████| 890kB 28.4MB/s \n",
            "\u001b[?25hCollecting tokenizers==0.8.1.rc2\n",
            "\u001b[?25l  Downloading https://files.pythonhosted.org/packages/80/83/8b9fccb9e48eeb575ee19179e2bdde0ee9a1904f97de5f02d19016b8804f/tokenizers-0.8.1rc2-cp36-cp36m-manylinux1_x86_64.whl (3.0MB)\n",
            "\u001b[K     |████████████████████████████████| 3.0MB 48.4MB/s \n",
            "\u001b[?25hRequirement already satisfied: numpy in /usr/local/lib/python3.6/dist-packages (from transformers==3.3.1) (1.18.5)\n",
            "Requirement already satisfied: packaging in /usr/local/lib/python3.6/dist-packages (from transformers==3.3.1) (20.7)\n",
            "Requirement already satisfied: regex!=2019.12.17 in /usr/local/lib/python3.6/dist-packages (from transformers==3.3.1) (2019.12.20)\n",
            "Requirement already satisfied: requests in /usr/local/lib/python3.6/dist-packages (from transformers==3.3.1) (2.23.0)\n",
            "Requirement already satisfied: tqdm>=4.27 in /usr/local/lib/python3.6/dist-packages (from transformers==3.3.1) (4.41.1)\n",
            "Requirement already satisfied: filelock in /usr/local/lib/python3.6/dist-packages (from transformers==3.3.1) (3.0.12)\n",
            "Collecting sentencepiece!=0.1.92\n",
            "\u001b[?25l  Downloading https://files.pythonhosted.org/packages/e5/2d/6d4ca4bef9a67070fa1cac508606328329152b1df10bdf31fb6e4e727894/sentencepiece-0.1.94-cp36-cp36m-manylinux2014_x86_64.whl (1.1MB)\n",
            "\u001b[K     |████████████████████████████████| 1.1MB 44.9MB/s \n",
            "\u001b[?25hRequirement already satisfied: six in /usr/local/lib/python3.6/dist-packages (from sacremoses->transformers==3.3.1) (1.15.0)\n",
            "Requirement already satisfied: click in /usr/local/lib/python3.6/dist-packages (from sacremoses->transformers==3.3.1) (7.1.2)\n",
            "Requirement already satisfied: joblib in /usr/local/lib/python3.6/dist-packages (from sacremoses->transformers==3.3.1) (0.17.0)\n",
            "Requirement already satisfied: pyparsing>=2.0.2 in /usr/local/lib/python3.6/dist-packages (from packaging->transformers==3.3.1) (2.4.7)\n",
            "Requirement already satisfied: certifi>=2017.4.17 in /usr/local/lib/python3.6/dist-packages (from requests->transformers==3.3.1) (2020.12.5)\n",
            "Requirement already satisfied: urllib3!=1.25.0,!=1.25.1,<1.26,>=1.21.1 in /usr/local/lib/python3.6/dist-packages (from requests->transformers==3.3.1) (1.24.3)\n",
            "Requirement already satisfied: idna<3,>=2.5 in /usr/local/lib/python3.6/dist-packages (from requests->transformers==3.3.1) (2.10)\n",
            "Requirement already satisfied: chardet<4,>=3.0.2 in /usr/local/lib/python3.6/dist-packages (from requests->transformers==3.3.1) (3.0.4)\n",
            "Building wheels for collected packages: sacremoses\n",
            "  Building wheel for sacremoses (setup.py) ... \u001b[?25l\u001b[?25hdone\n",
            "  Created wheel for sacremoses: filename=sacremoses-0.0.43-cp36-none-any.whl size=893261 sha256=a6c4b0093503ad5443b49017627d64df2be633654d1ba0d1fd1ae1ae850209e7\n",
            "  Stored in directory: /root/.cache/pip/wheels/29/3c/fd/7ce5c3f0666dab31a50123635e6fb5e19ceb42ce38d4e58f45\n",
            "Successfully built sacremoses\n",
            "Installing collected packages: sacremoses, tokenizers, sentencepiece, transformers\n",
            "Successfully installed sacremoses-0.0.43 sentencepiece-0.1.94 tokenizers-0.8.1rc2 transformers-3.3.1\n"
          ],
          "name": "stdout"
        }
      ]
    },
    {
      "cell_type": "code",
      "metadata": {
        "id": "BGoQZFFYJlu8"
      },
      "source": [
        "import pandas as pd\r\n",
        "import numpy as np\r\n",
        "from sklearn.preprocessing import LabelEncoder"
      ],
      "execution_count": 2,
      "outputs": []
    },
    {
      "cell_type": "code",
      "metadata": {
        "colab": {
          "base_uri": "https://localhost:8080/",
          "height": 415
        },
        "id": "cQaMUgiLKe2h",
        "outputId": "3813c62a-e77e-4cd2-bf32-b692831c934a"
      },
      "source": [
        "train=pd.read_csv('/content/tamil_hope_first_train.tsv', header=None, names=['tweets','label'], sep=\"\\t\")\r\n",
        "train['labels']=LabelEncoder().fit_transform(train['label'])\r\n",
        "train=train.drop(columns='label')\r\n",
        "train"
      ],
      "execution_count": 3,
      "outputs": [
        {
          "output_type": "execute_result",
          "data": {
            "text/html": [
              "<div>\n",
              "<style scoped>\n",
              "    .dataframe tbody tr th:only-of-type {\n",
              "        vertical-align: middle;\n",
              "    }\n",
              "\n",
              "    .dataframe tbody tr th {\n",
              "        vertical-align: top;\n",
              "    }\n",
              "\n",
              "    .dataframe thead th {\n",
              "        text-align: right;\n",
              "    }\n",
              "</style>\n",
              "<table border=\"1\" class=\"dataframe\">\n",
              "  <thead>\n",
              "    <tr style=\"text-align: right;\">\n",
              "      <th></th>\n",
              "      <th>tweets</th>\n",
              "      <th>labels</th>\n",
              "    </tr>\n",
              "  </thead>\n",
              "  <tbody>\n",
              "    <tr>\n",
              "      <th>0</th>\n",
              "      <td>Realme india product</td>\n",
              "      <td>2</td>\n",
              "    </tr>\n",
              "    <tr>\n",
              "      <th>1</th>\n",
              "      <td>I also don't have tiktok hello and allnBut I'm...</td>\n",
              "      <td>0</td>\n",
              "    </tr>\n",
              "    <tr>\n",
              "      <th>2</th>\n",
              "      <td>Thalaivare..neengale inum one plus mobile vach...</td>\n",
              "      <td>1</td>\n",
              "    </tr>\n",
              "    <tr>\n",
              "      <th>3</th>\n",
              "      <td>Annee varanda thondai.. corona virus affect pa...</td>\n",
              "      <td>0</td>\n",
              "    </tr>\n",
              "    <tr>\n",
              "      <th>4</th>\n",
              "      <td>5views but 18likes</td>\n",
              "      <td>1</td>\n",
              "    </tr>\n",
              "    <tr>\n",
              "      <th>...</th>\n",
              "      <td>...</td>\n",
              "      <td>...</td>\n",
              "    </tr>\n",
              "    <tr>\n",
              "      <th>16155</th>\n",
              "      <td>7pm correcta erukum mg bro</td>\n",
              "      <td>0</td>\n",
              "    </tr>\n",
              "    <tr>\n",
              "      <th>16156</th>\n",
              "      <td>Intha karutha mudija varaikum Neengalum ellark...</td>\n",
              "      <td>1</td>\n",
              "    </tr>\n",
              "    <tr>\n",
              "      <th>16157</th>\n",
              "      <td>And neenga adhiyavasiyam nu soldra apps like t...</td>\n",
              "      <td>1</td>\n",
              "    </tr>\n",
              "    <tr>\n",
              "      <th>16158</th>\n",
              "      <td>Daii sekram mater ku vada</td>\n",
              "      <td>0</td>\n",
              "    </tr>\n",
              "    <tr>\n",
              "      <th>16159</th>\n",
              "      <td>Bro put Redmi 8 gaming</td>\n",
              "      <td>0</td>\n",
              "    </tr>\n",
              "  </tbody>\n",
              "</table>\n",
              "<p>16160 rows × 2 columns</p>\n",
              "</div>"
            ],
            "text/plain": [
              "                                                  tweets  labels\n",
              "0                                   Realme india product       2\n",
              "1      I also don't have tiktok hello and allnBut I'm...       0\n",
              "2      Thalaivare..neengale inum one plus mobile vach...       1\n",
              "3      Annee varanda thondai.. corona virus affect pa...       0\n",
              "4                                     5views but 18likes       1\n",
              "...                                                  ...     ...\n",
              "16155                         7pm correcta erukum mg bro       0\n",
              "16156  Intha karutha mudija varaikum Neengalum ellark...       1\n",
              "16157  And neenga adhiyavasiyam nu soldra apps like t...       1\n",
              "16158                          Daii sekram mater ku vada       0\n",
              "16159                             Bro put Redmi 8 gaming       0\n",
              "\n",
              "[16160 rows x 2 columns]"
            ]
          },
          "metadata": {
            "tags": []
          },
          "execution_count": 3
        }
      ]
    },
    {
      "cell_type": "code",
      "metadata": {
        "colab": {
          "base_uri": "https://localhost:8080/",
          "height": 415
        },
        "id": "Whp4CHwJOr8H",
        "outputId": "19df7e6a-4443-415f-de56-5874c8c71604"
      },
      "source": [
        "val=pd.read_csv('/content/tamil_hope_first_dev.tsv', header=None, names=['tweets','label'], sep=\"\\t\")\r\n",
        "val['labels']=LabelEncoder().fit_transform(val['label'])\r\n",
        "val=val.drop(columns='label')\r\n",
        "val"
      ],
      "execution_count": 4,
      "outputs": [
        {
          "output_type": "execute_result",
          "data": {
            "text/html": [
              "<div>\n",
              "<style scoped>\n",
              "    .dataframe tbody tr th:only-of-type {\n",
              "        vertical-align: middle;\n",
              "    }\n",
              "\n",
              "    .dataframe tbody tr th {\n",
              "        vertical-align: top;\n",
              "    }\n",
              "\n",
              "    .dataframe thead th {\n",
              "        text-align: right;\n",
              "    }\n",
              "</style>\n",
              "<table border=\"1\" class=\"dataframe\">\n",
              "  <thead>\n",
              "    <tr style=\"text-align: right;\">\n",
              "      <th></th>\n",
              "      <th>tweets</th>\n",
              "      <th>labels</th>\n",
              "    </tr>\n",
              "  </thead>\n",
              "  <tbody>\n",
              "    <tr>\n",
              "      <th>0</th>\n",
              "      <td>Mg bro eve 6 o clock video post pannuga</td>\n",
              "      <td>0</td>\n",
              "    </tr>\n",
              "    <tr>\n",
              "      <th>1</th>\n",
              "      <td>8.00 pm bro plss</td>\n",
              "      <td>2</td>\n",
              "    </tr>\n",
              "    <tr>\n",
              "      <th>2</th>\n",
              "      <td>Bro ivan kitta sonna . Ivan change' pannidava ...</td>\n",
              "      <td>0</td>\n",
              "    </tr>\n",
              "    <tr>\n",
              "      <th>3</th>\n",
              "      <td>@Varnajalam Mini Crafts adhum crrct thaan Akka 🤣</td>\n",
              "      <td>1</td>\n",
              "    </tr>\n",
              "    <tr>\n",
              "      <th>4</th>\n",
              "      <td>எல்லா குழந்தைகளும் நல்ல எண்ணம்</td>\n",
              "      <td>0</td>\n",
              "    </tr>\n",
              "    <tr>\n",
              "      <th>...</th>\n",
              "      <td>...</td>\n",
              "      <td>...</td>\n",
              "    </tr>\n",
              "    <tr>\n",
              "      <th>2013</th>\n",
              "      <td>Share karo app use panlama</td>\n",
              "      <td>1</td>\n",
              "    </tr>\n",
              "    <tr>\n",
              "      <th>2014</th>\n",
              "      <td>@R SWAGxOP kelattu kapothi maari nee pesathada...</td>\n",
              "      <td>1</td>\n",
              "    </tr>\n",
              "    <tr>\n",
              "      <th>2015</th>\n",
              "      <td>Yow yaean yaa kelappi vidringa ipd</td>\n",
              "      <td>1</td>\n",
              "    </tr>\n",
              "    <tr>\n",
              "      <th>2016</th>\n",
              "      <td>Hey bro. Ur doing amazing...</td>\n",
              "      <td>2</td>\n",
              "    </tr>\n",
              "    <tr>\n",
              "      <th>2017</th>\n",
              "      <td>@Haram Bhai Allah yaaru saamy nee??</td>\n",
              "      <td>1</td>\n",
              "    </tr>\n",
              "  </tbody>\n",
              "</table>\n",
              "<p>2018 rows × 2 columns</p>\n",
              "</div>"
            ],
            "text/plain": [
              "                                                 tweets  labels\n",
              "0               Mg bro eve 6 o clock video post pannuga       0\n",
              "1                                      8.00 pm bro plss       2\n",
              "2     Bro ivan kitta sonna . Ivan change' pannidava ...       0\n",
              "3      @Varnajalam Mini Crafts adhum crrct thaan Akka 🤣       1\n",
              "4                        எல்லா குழந்தைகளும் நல்ல எண்ணம்       0\n",
              "...                                                 ...     ...\n",
              "2013                         Share karo app use panlama       1\n",
              "2014  @R SWAGxOP kelattu kapothi maari nee pesathada...       1\n",
              "2015                 Yow yaean yaa kelappi vidringa ipd       1\n",
              "2016                       Hey bro. Ur doing amazing...       2\n",
              "2017                @Haram Bhai Allah yaaru saamy nee??       1\n",
              "\n",
              "[2018 rows x 2 columns]"
            ]
          },
          "metadata": {
            "tags": []
          },
          "execution_count": 4
        }
      ]
    },
    {
      "cell_type": "code",
      "metadata": {
        "id": "lMd3ZHtlPpLv"
      },
      "source": [
        "import pandas as pd\r\n",
        "from torch.utils.data import Dataset,DataLoader\r\n",
        "\r\n",
        "class RFDataset(Dataset):\r\n",
        "  def __init__(self,tweets,labels,tokenizer,max_len):\r\n",
        "    self.tweets = tweets\r\n",
        "    self.labels = labels\r\n",
        "    self.tokenizer = tokenizer\r\n",
        "    self.max_len = max_len\r\n",
        "  \r\n",
        "  def __len__(self):\r\n",
        "    return len(self.tweets)\r\n",
        "  \r\n",
        "  def __getitem__(self,item):\r\n",
        "    tweets = str(self.tweets[item])\r\n",
        "    labels = self.labels[item]\r\n",
        "\r\n",
        "    encoding = self.tokenizer.encode_plus(\r\n",
        "        tweets,\r\n",
        "        add_special_tokens=True,\r\n",
        "        max_length = self.max_len,\r\n",
        "        return_token_type_ids = False,\r\n",
        "        padding = 'max_length',\r\n",
        "        return_attention_mask= True,\r\n",
        "        return_tensors='pt',\r\n",
        "        truncation=True\r\n",
        "    )\r\n",
        "\r\n",
        "    return {\r\n",
        "        'tweets' : tweets,\r\n",
        "        'input_ids' : encoding['input_ids'].flatten(),\r\n",
        "        'attention_mask' : encoding['attention_mask'].flatten(),\r\n",
        "        'labels' : torch.tensor(labels,dtype=torch.long)\r\n",
        "\r\n",
        "    }"
      ],
      "execution_count": 5,
      "outputs": []
    },
    {
      "cell_type": "code",
      "metadata": {
        "colab": {
          "base_uri": "https://localhost:8080/"
        },
        "id": "mDdVdA1bQlUF",
        "outputId": "d2551152-f111-4b85-ad03-f29a6b0be2d7"
      },
      "source": [
        " \r\n",
        "print('Training set size:',train.shape)\r\n",
        "#Uncomment the next line when we have the test data\r\n",
        "#print('Testing set size:',test.shape)\r\n",
        "print('validation set size:',val.shape)"
      ],
      "execution_count": 6,
      "outputs": [
        {
          "output_type": "stream",
          "text": [
            "Training set size: (16160, 2)\n",
            "validation set size: (2018, 2)\n"
          ],
          "name": "stdout"
        }
      ]
    },
    {
      "cell_type": "code",
      "metadata": {
        "colab": {
          "base_uri": "https://localhost:8080/"
        },
        "id": "ZFA6pybHQwOX",
        "outputId": "db6a3ba5-73a5-41e9-8ee3-0f25b6f7669a"
      },
      "source": [
        "import numpy as np\r\n",
        "\r\n",
        "from sklearn.utils import class_weight\r\n",
        "class_weights = class_weight.compute_class_weight('balanced',\r\n",
        "                                                  np.unique(train.labels.values),\r\n",
        "                                                  train.labels.values)\r\n",
        "class_weights"
      ],
      "execution_count": 7,
      "outputs": [
        {
          "output_type": "execute_result",
          "data": {
            "text/plain": [
              "array([0.85137769, 0.68428184, 2.74689784])"
            ]
          },
          "metadata": {
            "tags": []
          },
          "execution_count": 7
        }
      ]
    },
    {
      "cell_type": "code",
      "metadata": {
        "id": "JrS3mf4RQyy9"
      },
      "source": [
        "def create_data_loader(df,tokenizer,max_len,batch_size):\r\n",
        "  ds = RFDataset(\r\n",
        "      tweets = df.tweets.to_numpy(),\r\n",
        "      labels = df.labels.to_numpy(),\r\n",
        "      tokenizer = tokenizer,\r\n",
        "      max_len = max_len\r\n",
        "  )\r\n",
        "\r\n",
        "  return DataLoader(ds,\r\n",
        "                    batch_size = batch_size,\r\n",
        "                    shuffle = True,\r\n",
        "                    num_workers=4)"
      ],
      "execution_count": 8,
      "outputs": []
    },
    {
      "cell_type": "code",
      "metadata": {
        "id": "r5HC7hmTQ1zg",
        "colab": {
          "base_uri": "https://localhost:8080/",
          "height": 116,
          "referenced_widgets": [
            "121bd97bb890454680efc120f4b317d3",
            "cefc2e05e62c41e6a81e1f4bd6efe51a",
            "e2bdf518fd7444ea9f0370a943e2fb78",
            "008b3ad937f34e98a898783c70e273ad",
            "9b8d4325a4da4d8796096a383118a601",
            "70d0f2fe43f74c19a082789e9d2d4e14",
            "ee65db721b88472188228a9e1c19ba83",
            "a3bdbbf04b7d496c861949bfbca4581e",
            "7dcfa4b2e72243aea6013cee837f30dd",
            "907939a85c48422c913b5b664b4df7af",
            "8c683a7ce1db4f56ba1d660c76c914bd",
            "cf6792765e884b4b985be155a86c4752",
            "713add56091e45d9ad37a3b0ec0fc3b6",
            "81ea9b6a347a4a7f89d758efc2b59118",
            "e4bbc859a496499e86d375484ec18834",
            "0475638f745b406c9da0b47151f70be2"
          ]
        },
        "outputId": "b0a17ee5-20ae-4748-b07f-b5618ba392fc"
      },
      "source": [
        "from transformers import XLNetTokenizer,XLNetModel,AdamW,get_linear_schedule_with_warmup,AutoModel,AutoTokenizer\r\n",
        "device = 'cuda'\r\n",
        "PRE_TRAINED_MODEL_NAME = 'bert-base-multilingual-cased'\r\n",
        "tokenizer = AutoTokenizer.from_pretrained(PRE_TRAINED_MODEL_NAME)\r\n"
      ],
      "execution_count": 9,
      "outputs": [
        {
          "output_type": "display_data",
          "data": {
            "application/vnd.jupyter.widget-view+json": {
              "model_id": "121bd97bb890454680efc120f4b317d3",
              "version_minor": 0,
              "version_major": 2
            },
            "text/plain": [
              "HBox(children=(FloatProgress(value=0.0, description='Downloading', max=625.0, style=ProgressStyle(description_…"
            ]
          },
          "metadata": {
            "tags": []
          }
        },
        {
          "output_type": "stream",
          "text": [
            "\n"
          ],
          "name": "stdout"
        },
        {
          "output_type": "display_data",
          "data": {
            "application/vnd.jupyter.widget-view+json": {
              "model_id": "7dcfa4b2e72243aea6013cee837f30dd",
              "version_minor": 0,
              "version_major": 2
            },
            "text/plain": [
              "HBox(children=(FloatProgress(value=0.0, description='Downloading', max=995526.0, style=ProgressStyle(descripti…"
            ]
          },
          "metadata": {
            "tags": []
          }
        },
        {
          "output_type": "stream",
          "text": [
            "\n"
          ],
          "name": "stdout"
        }
      ]
    },
    {
      "cell_type": "code",
      "metadata": {
        "id": "r_c7oQlUQ4ED"
      },
      "source": [
        "BATCH_SIZE = 32\r\n",
        "MAX_LEN = 128\r\n",
        "train_data_loader = create_data_loader(train,tokenizer,MAX_LEN,BATCH_SIZE)\r\n",
        "val_data_loader = create_data_loader(val,tokenizer,MAX_LEN,BATCH_SIZE)"
      ],
      "execution_count": 10,
      "outputs": []
    },
    {
      "cell_type": "code",
      "metadata": {
        "id": "vtkIQTq3Q6-b",
        "colab": {
          "base_uri": "https://localhost:8080/",
          "height": 67,
          "referenced_widgets": [
            "3ff3bd69f8f84525a82cf8dd5c0fc84c",
            "342f2834fe0140479c975cf2c3fc6b5e",
            "c8b3c57f1e434055b6c677fed6d840b2",
            "122108c10d714e539b94cca0e945878e",
            "9f3a85ca12794b29a23a574b2a281ee3",
            "674eb2e8817c47c1ba0ed91c9c82c6ef",
            "df8c979c07234f10bb5960d7bada9605",
            "97510fb9bf0c49a98c2b31dbfa77d537"
          ]
        },
        "outputId": "64a52501-eb3d-486c-cde9-a462d77a5e86"
      },
      "source": [
        "BERT_model = AutoModel.from_pretrained(PRE_TRAINED_MODEL_NAME)"
      ],
      "execution_count": 11,
      "outputs": [
        {
          "output_type": "display_data",
          "data": {
            "application/vnd.jupyter.widget-view+json": {
              "model_id": "3ff3bd69f8f84525a82cf8dd5c0fc84c",
              "version_minor": 0,
              "version_major": 2
            },
            "text/plain": [
              "HBox(children=(FloatProgress(value=0.0, description='Downloading', max=714314041.0, style=ProgressStyle(descri…"
            ]
          },
          "metadata": {
            "tags": []
          }
        },
        {
          "output_type": "stream",
          "text": [
            "\n"
          ],
          "name": "stdout"
        }
      ]
    },
    {
      "cell_type": "code",
      "metadata": {
        "id": "ELD76HMVQ9HQ"
      },
      "source": [
        "import torch.nn as nn\r\n",
        "class RFClassifier(nn.Module):\r\n",
        "  def __init__(self, n_classes):\r\n",
        "    super(RFClassifier, self).__init__()\r\n",
        "    self.auto = AutoModel.from_pretrained('bert-base-multilingual-cased')\r\n",
        "    self.drop = nn.Dropout(p=0.4)\r\n",
        "    #self.out = nn.Linear(self.bert.config.hidden_size, n_classes)\r\n",
        "    self.out1 = nn.Linear(self.auto.config.hidden_size, 128)\r\n",
        "    self.drop1 = nn.Dropout(p=0.4)\r\n",
        "    self.relu = nn.ReLU()\r\n",
        "    self.out = nn.Linear(128, n_classes)\r\n",
        "  \r\n",
        "  def forward(self, input_ids, attention_mask):\r\n",
        "    _,pooled_output = self.auto(\r\n",
        "      input_ids=input_ids,\r\n",
        "      attention_mask=attention_mask\r\n",
        "    )\r\n",
        "    #output = self.relu(pooled_output)\r\n",
        "    output = self.drop(pooled_output)\r\n",
        "    output = self.out1(output)\r\n",
        "    output = self.relu(output)\r\n",
        "    output = self.drop1(output)\r\n",
        "    return self.out(output)"
      ],
      "execution_count": 12,
      "outputs": []
    },
    {
      "cell_type": "code",
      "metadata": {
        "id": "VzOmQqNyRAqg"
      },
      "source": [
        "model = RFClassifier(3)\r\n",
        "model = model.to(device)"
      ],
      "execution_count": 13,
      "outputs": []
    },
    {
      "cell_type": "code",
      "metadata": {
        "id": "gxxmEAKvRC5H"
      },
      "source": [
        "EPOCHS = 25\r\n",
        "optimizer = AdamW(model.parameters(), lr=2e-5, correct_bias=False)\r\n",
        "total_steps = len(train_data_loader) * EPOCHS\r\n",
        "scheduler = get_linear_schedule_with_warmup(\r\n",
        "  optimizer,\r\n",
        "  num_warmup_steps=0,\r\n",
        "  num_training_steps=total_steps\r\n",
        ")\r\n",
        "\r\n",
        "loss_fn = nn.CrossEntropyLoss().to(device)"
      ],
      "execution_count": 14,
      "outputs": []
    },
    {
      "cell_type": "code",
      "metadata": {
        "id": "7x444fs7R0oz"
      },
      "source": [
        "\r\n",
        "def train_epoch(model,data_loader,loss_fn,optimizer,device,scheduler,n_examples):\r\n",
        "    model = model.train()\r\n",
        "    losses = []\r\n",
        "    correct_predictions = 0\r\n",
        "\r\n",
        "    for data in data_loader:\r\n",
        "        input_ids = data['input_ids'].to(device)\r\n",
        "        attention_mask = data['attention_mask'].to(device)\r\n",
        "        labels = data['labels'].to(device)\r\n",
        "\r\n",
        "        outputs = model(\r\n",
        "            input_ids=input_ids,\r\n",
        "            attention_mask=attention_mask\r\n",
        "            )\r\n",
        "        _, preds = torch.max(outputs, dim=1)\r\n",
        "        loss = loss_fn(outputs,labels)\r\n",
        "\r\n",
        "        correct_predictions += torch.sum(preds == labels)\r\n",
        "        losses.append(loss.item())\r\n",
        "\r\n",
        "        loss.backward()\r\n",
        "        nn.utils.clip_grad_norm_(model.parameters(), max_norm=1.0)\r\n",
        "        optimizer.step()\r\n",
        "        scheduler.step()\r\n",
        "        optimizer.zero_grad()\r\n",
        "\r\n",
        "    return correct_predictions.double() / n_examples, np.mean(losses)"
      ],
      "execution_count": 15,
      "outputs": []
    },
    {
      "cell_type": "code",
      "metadata": {
        "id": "tGTlOJP3R2rX"
      },
      "source": [
        "def eval_model(model, data_loader, loss_fn, device, n_examples):\r\n",
        "  model = model.eval()\r\n",
        "  losses = []\r\n",
        "  correct_predictions = 0\r\n",
        "  with torch.no_grad():\r\n",
        "    for d in data_loader:\r\n",
        "      input_ids = d[\"input_ids\"].to(device)\r\n",
        "      attention_mask = d[\"attention_mask\"].to(device)\r\n",
        "      labels = d[\"labels\"].to(device)\r\n",
        "      outputs = model(\r\n",
        "        input_ids=input_ids,\r\n",
        "        attention_mask=attention_mask\r\n",
        "      )\r\n",
        "      _, preds = torch.max(outputs, dim=1)\r\n",
        "      loss = loss_fn(outputs, labels)\r\n",
        "      correct_predictions += torch.sum(preds == labels)\r\n",
        "      losses.append(loss.item())\r\n",
        "  return correct_predictions.double() / n_examples, np.mean(losses)"
      ],
      "execution_count": 16,
      "outputs": []
    },
    {
      "cell_type": "code",
      "metadata": {
        "id": "nvBZLbZAR4wN"
      },
      "source": [
        "import time\r\n",
        "\r\n",
        "def epoch_time(start_time, end_time):\r\n",
        "    elapsed_time = end_time - start_time\r\n",
        "    elapsed_mins = int(elapsed_time / 60)\r\n",
        "    elapsed_secs = int(elapsed_time - (elapsed_mins * 60))\r\n",
        "    return elapsed_mins, elapsed_secs"
      ],
      "execution_count": 17,
      "outputs": []
    },
    {
      "cell_type": "code",
      "metadata": {
        "colab": {
          "base_uri": "https://localhost:8080/"
        },
        "id": "hN5SVoUVR6kL",
        "outputId": "c52a6da2-ce8b-499c-8108-bf6a4184bb53"
      },
      "source": [
        "from collections import defaultdict\r\n",
        "import torch\r\n",
        " \r\n",
        "history = defaultdict(list)\r\n",
        "best_accuracy = 0\r\n",
        "for epoch in range(EPOCHS):\r\n",
        " \r\n",
        " \r\n",
        "  start_time = time.time()\r\n",
        "  train_acc,train_loss = train_epoch(\r\n",
        "      model,\r\n",
        "      train_data_loader,\r\n",
        "      loss_fn,\r\n",
        "      optimizer,\r\n",
        "      device,\r\n",
        "      scheduler,\r\n",
        "      len(train)\r\n",
        "  )\r\n",
        "   \r\n",
        " \r\n",
        "#  val_acc,val_loss = eval_model(\r\n",
        "#      model,\r\n",
        "#      val_data_loader,\r\n",
        "#      loss_fn,\r\n",
        "#      device,\r\n",
        "#      len(val)\r\n",
        "#  )\r\n",
        "\r\n",
        "  end_time = time.time()\r\n",
        "  epoch_mins, epoch_secs = epoch_time(start_time, end_time)\r\n",
        "  print(f'Epoch: {epoch+1:02} | Epoch Time: {epoch_mins}m {epoch_secs}s')\r\n",
        "  print(f'Train Loss {train_loss} accuracy {train_acc}')\r\n",
        " # print(f'Val Loss {val_loss} accuracy {val_acc}')\r\n",
        "  print()\r\n",
        "\r\n",
        "  history['train_acc'].append(train_acc)\r\n",
        "  history['train_loss'].append(train_loss)\r\n",
        "#  history['val_acc'].append(val_acc)\r\n",
        "#  history['val_loss'].append(val_loss)\r\n",
        "\r\n",
        "  if train_acc > best_accuracy:\r\n",
        "    torch.save(model.state_dict(),'multilingual-bert-base-uncased(25_Epochs).bin')\r\n",
        "    best_accuracy = train_acc"
      ],
      "execution_count": 18,
      "outputs": [
        {
          "output_type": "stream",
          "text": [
            "Epoch: 01 | Epoch Time: 5m 55s\n",
            "Train Loss 0.8862986498539991 accuracy 0.5136757425742574\n",
            "\n",
            "Epoch: 02 | Epoch Time: 6m 6s\n",
            "Train Loss 0.8367907184185368 accuracy 0.5295173267326733\n",
            "\n",
            "Epoch: 03 | Epoch Time: 6m 6s\n",
            "Train Loss 0.826123315154916 accuracy 0.5368811881188119\n",
            "\n",
            "Epoch: 04 | Epoch Time: 6m 6s\n",
            "Train Loss 0.8148354797080012 accuracy 0.5441212871287129\n",
            "\n",
            "Epoch: 05 | Epoch Time: 6m 5s\n",
            "Train Loss 0.80725018376171 accuracy 0.5454207920792079\n",
            "\n",
            "Epoch: 06 | Epoch Time: 6m 6s\n",
            "Train Loss 0.7997547371552722 accuracy 0.5465965346534654\n",
            "\n",
            "Epoch: 07 | Epoch Time: 6m 6s\n",
            "Train Loss 0.772735862212606 accuracy 0.5541460396039604\n",
            "\n",
            "Epoch: 08 | Epoch Time: 6m 6s\n",
            "Train Loss 0.7532506523746075 accuracy 0.5690594059405941\n",
            "\n",
            "Epoch: 09 | Epoch Time: 6m 6s\n",
            "Train Loss 0.7350048375601815 accuracy 0.5834777227722773\n",
            "\n",
            "Epoch: 10 | Epoch Time: 6m 5s\n",
            "Train Loss 0.7140922701004708 accuracy 0.6163366336633663\n",
            "\n",
            "Epoch: 11 | Epoch Time: 6m 5s\n",
            "Train Loss 0.6809766967107754 accuracy 0.6485767326732673\n",
            "\n",
            "Epoch: 12 | Epoch Time: 6m 6s\n",
            "Train Loss 0.6594622535280662 accuracy 0.6726485148514851\n",
            "\n",
            "Epoch: 13 | Epoch Time: 6m 6s\n",
            "Train Loss 0.6301334692700075 accuracy 0.700990099009901\n",
            "\n",
            "Epoch: 14 | Epoch Time: 6m 6s\n",
            "Train Loss 0.606262202664177 accuracy 0.7230816831683169\n",
            "\n",
            "Epoch: 15 | Epoch Time: 6m 5s\n",
            "Train Loss 0.5844188545009877 accuracy 0.7386757425742574\n",
            "\n",
            "Epoch: 16 | Epoch Time: 6m 6s\n",
            "Train Loss 0.5535998049348888 accuracy 0.7595297029702971\n",
            "\n",
            "Epoch: 17 | Epoch Time: 6m 6s\n",
            "Train Loss 0.5340495773766301 accuracy 0.7741336633663366\n",
            "\n",
            "Epoch: 18 | Epoch Time: 6m 5s\n",
            "Train Loss 0.5158825408114065 accuracy 0.7879331683168317\n",
            "\n",
            "Epoch: 19 | Epoch Time: 6m 5s\n",
            "Train Loss 0.49115351229020865 accuracy 0.803279702970297\n",
            "\n",
            "Epoch: 20 | Epoch Time: 6m 6s\n",
            "Train Loss 0.4733373033823353 accuracy 0.8126237623762377\n",
            "\n",
            "Epoch: 21 | Epoch Time: 6m 6s\n",
            "Train Loss 0.4586867285246896 accuracy 0.8236386138613861\n",
            "\n",
            "Epoch: 22 | Epoch Time: 6m 5s\n",
            "Train Loss 0.4508020439065329 accuracy 0.8259282178217822\n",
            "\n",
            "Epoch: 23 | Epoch Time: 6m 6s\n",
            "Train Loss 0.4328000131514993 accuracy 0.8383044554455445\n",
            "\n",
            "Epoch: 24 | Epoch Time: 6m 6s\n",
            "Train Loss 0.41960191399154095 accuracy 0.8433168316831683\n",
            "\n",
            "Epoch: 25 | Epoch Time: 6m 5s\n",
            "Train Loss 0.4174929110130461 accuracy 0.844740099009901\n",
            "\n"
          ],
          "name": "stdout"
        }
      ]
    },
    {
      "cell_type": "code",
      "metadata": {
        "id": "pXpyt4kPR8Qo",
        "colab": {
          "base_uri": "https://localhost:8080/",
          "height": 313
        },
        "outputId": "5c16ddc2-9f85-41d4-8e87-b441139b718e"
      },
      "source": [
        "import matplotlib.pyplot as plt\r\n",
        "plt.plot(history['train_acc'], label='train accuracy')\r\n",
        "#plt.plot(history['val_acc'], label='validation accuracy')\r\n",
        "plt.title('Training history')\r\n",
        "plt.ylabel('Accuracy')\r\n",
        "plt.xlabel('Epoch')\r\n",
        "#plt.legend()\r\n",
        "#plt.ylim([0, 1]);"
      ],
      "execution_count": 19,
      "outputs": [
        {
          "output_type": "execute_result",
          "data": {
            "text/plain": [
              "Text(0.5, 0, 'Epoch')"
            ]
          },
          "metadata": {
            "tags": []
          },
          "execution_count": 19
        },
        {
          "output_type": "display_data",
          "data": {
            "image/png": "[encoded data removed]",
            "text/plain": [
              "<Figure size 432x288 with 1 Axes>"
            ]
          },
          "metadata": {
            "tags": [],
            "needs_background": "light"
          }
        }
      ]
    },
    {
      "cell_type": "code",
      "metadata": {
        "colab": {
          "base_uri": "https://localhost:8080/"
        },
        "id": "i4jnJ_DeVChr",
        "outputId": "34d27736-3dd5-4aa8-ec26-ddeb8292e426"
      },
      "source": [
        "val_acc, _ = eval_model(\r\n",
        "  model,\r\n",
        "  val_data_loader,\r\n",
        "  loss_fn,\r\n",
        "  device,\r\n",
        "  len(val) #Change it to test when you have the test results\r\n",
        ")\r\n",
        "val_acc.item()"
      ],
      "execution_count": 20,
      "outputs": [
        {
          "output_type": "execute_result",
          "data": {
            "text/plain": [
              "0.6025768087215064"
            ]
          },
          "metadata": {
            "tags": []
          },
          "execution_count": 20
        }
      ]
    },
    {
      "cell_type": "code",
      "metadata": {
        "id": "WrOtx2a1VFPV"
      },
      "source": [
        "def get_predictions(model, data_loader):\r\n",
        "  model = model.eval()\r\n",
        "  sentence = []\r\n",
        "  predictions = []\r\n",
        "  prediction_probs = []\r\n",
        "  real_values = []\r\n",
        "  with torch.no_grad():\r\n",
        "    for d in data_loader:\r\n",
        "      tweets = d[\"tweets\"]\r\n",
        "      input_ids = d[\"input_ids\"].to(device)\r\n",
        "      attention_mask = d[\"attention_mask\"].to(device)\r\n",
        "      labels = d[\"labels\"].to(device)\r\n",
        "      outputs = model(\r\n",
        "        input_ids=input_ids,\r\n",
        "        attention_mask=attention_mask\r\n",
        "      )\r\n",
        "      _, preds = torch.max(outputs, dim=1)\r\n",
        "      sentence.extend(tweets)\r\n",
        "      predictions.extend(preds)\r\n",
        "      prediction_probs.extend(outputs)\r\n",
        "      real_values.extend(labels)\r\n",
        "  predictions = torch.stack(predictions).cpu()\r\n",
        "  prediction_probs = torch.stack(prediction_probs).cpu()\r\n",
        "  real_values = torch.stack(real_values).cpu()\r\n",
        "  return sentence, predictions, prediction_probs, real_values"
      ],
      "execution_count": 21,
      "outputs": []
    },
    {
      "cell_type": "code",
      "metadata": {
        "id": "2A6ySmh7VNeo"
      },
      "source": [
        "\r\n",
        "y_review_texts, y_pred, y_pred_probs, y_test = get_predictions(\r\n",
        "  model,\r\n",
        "  val_data_loader\r\n",
        ")"
      ],
      "execution_count": 22,
      "outputs": []
    },
    {
      "cell_type": "code",
      "metadata": {
        "id": "YdnRltryVRuD"
      },
      "source": [
        "class_name = ['Hope_speech','Non_hope_speech','not-Tamil']"
      ],
      "execution_count": 23,
      "outputs": []
    },
    {
      "cell_type": "code",
      "metadata": {
        "colab": {
          "base_uri": "https://localhost:8080/"
        },
        "id": "7AbMa4soViJ-",
        "outputId": "89e408a7-dcf9-42ed-ecee-cc075bb8ef3c"
      },
      "source": [
        "from sklearn.metrics import classification_report,confusion_matrix\r\n",
        "print(classification_report(y_test, y_pred, target_names=class_name,zero_division=0))"
      ],
      "execution_count": 24,
      "outputs": [
        {
          "output_type": "stream",
          "text": [
            "                 precision    recall  f1-score   support\n",
            "\n",
            "    Hope_speech       0.55      0.50      0.53       757\n",
            "Non_hope_speech       0.63      0.69      0.66       998\n",
            "      not-Tamil       0.60      0.55      0.58       263\n",
            "\n",
            "       accuracy                           0.60      2018\n",
            "      macro avg       0.60      0.58      0.59      2018\n",
            "   weighted avg       0.60      0.60      0.60      2018\n",
            "\n"
          ],
          "name": "stdout"
        }
      ]
    },
    {
      "cell_type": "code",
      "metadata": {
        "colab": {
          "base_uri": "https://localhost:8080/",
          "height": 324
        },
        "id": "twdTb-qhVlbe",
        "outputId": "8f108765-c86c-4c0b-a5c7-6b5f3308b07f"
      },
      "source": [
        "import seaborn as sns\r\n",
        "def show_confusion_matrix(confusion_matrix):\r\n",
        "  hmap = sns.heatmap(confusion_matrix, annot=True, fmt=\"d\", cmap=\"Blues\")\r\n",
        "  hmap.yaxis.set_ticklabels(hmap.yaxis.get_ticklabels(), rotation=0, ha='right')\r\n",
        "  hmap.xaxis.set_ticklabels(hmap.xaxis.get_ticklabels(), rotation=30, ha='right')\r\n",
        "  plt.ylabel('True sentiment')\r\n",
        "  plt.xlabel('Predicted sentiment');\r\n",
        "cm = confusion_matrix(y_test, y_pred)\r\n",
        "df_cm = pd.DataFrame(cm, index=class_name, columns=class_name)\r\n",
        "show_confusion_matrix(df_cm)"
      ],
      "execution_count": 25,
      "outputs": [
        {
          "output_type": "display_data",
          "data": {
            "image/png": "[encoded data removed]",
            "text/plain": [
              "<Figure size 432x288 with 2 Axes>"
            ]
          },
          "metadata": {
            "tags": [],
            "needs_background": "light"
          }
        }
      ]
    },
    {
      "cell_type": "code",
      "metadata": {
        "id": "U1CMU_xZR6_U"
      },
      "source": [
        ""
      ],
      "execution_count": null,
      "outputs": []
    }
  ]
}
