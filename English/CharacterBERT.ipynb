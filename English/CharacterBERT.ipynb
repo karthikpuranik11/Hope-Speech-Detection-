{
  "nbformat": 4,
  "nbformat_minor": 0,
  "metadata": {
    "colab": {
      "name": "CharacterBERT.ipynb",
      "provenance": [],
      "include_colab_link": true
    },
    "kernelspec": {
      "name": "python3",
      "display_name": "Python 3"
    },
    "accelerator": "GPU",
    "widgets": {
      "application/vnd.jupyter.widget-state+json": {
        "c67ffe35a9dc406ca094d299f6ecc974": {
          "model_module": "@jupyter-widgets/controls",
          "model_name": "HBoxModel",
          "state": {
            "_view_name": "HBoxView",
            "_dom_classes": [],
            "_model_name": "HBoxModel",
            "_view_module": "@jupyter-widgets/controls",
            "_model_module_version": "1.5.0",
            "_view_count": null,
            "_view_module_version": "1.5.0",
            "box_style": "",
            "layout": "IPY_MODEL_8db190938a3749b887e65b46a7546f6e",
            "_model_module": "@jupyter-widgets/controls",
            "children": [
              "IPY_MODEL_b3d442061fec42588a9682acf9b4ec3f",
              "IPY_MODEL_f532e6650aa2459b8da144d4c5b94a8e"
            ]
          }
        },
        "8db190938a3749b887e65b46a7546f6e": {
          "model_module": "@jupyter-widgets/base",
          "model_name": "LayoutModel",
          "state": {
            "_view_name": "LayoutView",
            "grid_template_rows": null,
            "right": null,
            "justify_content": null,
            "_view_module": "@jupyter-widgets/base",
            "overflow": null,
            "_model_module_version": "1.2.0",
            "_view_count": null,
            "flex_flow": null,
            "width": null,
            "min_width": null,
            "border": null,
            "align_items": null,
            "bottom": null,
            "_model_module": "@jupyter-widgets/base",
            "top": null,
            "grid_column": null,
            "overflow_y": null,
            "overflow_x": null,
            "grid_auto_flow": null,
            "grid_area": null,
            "grid_template_columns": null,
            "flex": null,
            "_model_name": "LayoutModel",
            "justify_items": null,
            "grid_row": null,
            "max_height": null,
            "align_content": null,
            "visibility": null,
            "align_self": null,
            "height": null,
            "min_height": null,
            "padding": null,
            "grid_auto_rows": null,
            "grid_gap": null,
            "max_width": null,
            "order": null,
            "_view_module_version": "1.2.0",
            "grid_template_areas": null,
            "object_position": null,
            "object_fit": null,
            "grid_auto_columns": null,
            "margin": null,
            "display": null,
            "left": null
          }
        },
        "b3d442061fec42588a9682acf9b4ec3f": {
          "model_module": "@jupyter-widgets/controls",
          "model_name": "FloatProgressModel",
          "state": {
            "_view_name": "ProgressView",
            "style": "IPY_MODEL_725ea116733942eb8573e76f696ebbf0",
            "_dom_classes": [],
            "description": "Downloading: 100%",
            "_model_name": "FloatProgressModel",
            "bar_style": "success",
            "max": 433,
            "_view_module": "@jupyter-widgets/controls",
            "_model_module_version": "1.5.0",
            "value": 433,
            "_view_count": null,
            "_view_module_version": "1.5.0",
            "orientation": "horizontal",
            "min": 0,
            "description_tooltip": null,
            "_model_module": "@jupyter-widgets/controls",
            "layout": "IPY_MODEL_c5ed29aa0fb44cd98f3c32478e040dc3"
          }
        },
        "f532e6650aa2459b8da144d4c5b94a8e": {
          "model_module": "@jupyter-widgets/controls",
          "model_name": "HTMLModel",
          "state": {
            "_view_name": "HTMLView",
            "style": "IPY_MODEL_eb6da031f85a40c5bb76d99cb771531d",
            "_dom_classes": [],
            "description": "",
            "_model_name": "HTMLModel",
            "placeholder": "​",
            "_view_module": "@jupyter-widgets/controls",
            "_model_module_version": "1.5.0",
            "value": " 433/433 [00:03&lt;00:00, 125B/s]",
            "_view_count": null,
            "_view_module_version": "1.5.0",
            "description_tooltip": null,
            "_model_module": "@jupyter-widgets/controls",
            "layout": "IPY_MODEL_a5431cffe842449ba0dc8356ff63be3d"
          }
        },
        "725ea116733942eb8573e76f696ebbf0": {
          "model_module": "@jupyter-widgets/controls",
          "model_name": "ProgressStyleModel",
          "state": {
            "_view_name": "StyleView",
            "_model_name": "ProgressStyleModel",
            "description_width": "initial",
            "_view_module": "@jupyter-widgets/base",
            "_model_module_version": "1.5.0",
            "_view_count": null,
            "_view_module_version": "1.2.0",
            "bar_color": null,
            "_model_module": "@jupyter-widgets/controls"
          }
        },
        "c5ed29aa0fb44cd98f3c32478e040dc3": {
          "model_module": "@jupyter-widgets/base",
          "model_name": "LayoutModel",
          "state": {
            "_view_name": "LayoutView",
            "grid_template_rows": null,
            "right": null,
            "justify_content": null,
            "_view_module": "@jupyter-widgets/base",
            "overflow": null,
            "_model_module_version": "1.2.0",
            "_view_count": null,
            "flex_flow": null,
            "width": null,
            "min_width": null,
            "border": null,
            "align_items": null,
            "bottom": null,
            "_model_module": "@jupyter-widgets/base",
            "top": null,
            "grid_column": null,
            "overflow_y": null,
            "overflow_x": null,
            "grid_auto_flow": null,
            "grid_area": null,
            "grid_template_columns": null,
            "flex": null,
            "_model_name": "LayoutModel",
            "justify_items": null,
            "grid_row": null,
            "max_height": null,
            "align_content": null,
            "visibility": null,
            "align_self": null,
            "height": null,
            "min_height": null,
            "padding": null,
            "grid_auto_rows": null,
            "grid_gap": null,
            "max_width": null,
            "order": null,
            "_view_module_version": "1.2.0",
            "grid_template_areas": null,
            "object_position": null,
            "object_fit": null,
            "grid_auto_columns": null,
            "margin": null,
            "display": null,
            "left": null
          }
        },
        "eb6da031f85a40c5bb76d99cb771531d": {
          "model_module": "@jupyter-widgets/controls",
          "model_name": "DescriptionStyleModel",
          "state": {
            "_view_name": "StyleView",
            "_model_name": "DescriptionStyleModel",
            "description_width": "",
            "_view_module": "@jupyter-widgets/base",
            "_model_module_version": "1.5.0",
            "_view_count": null,
            "_view_module_version": "1.2.0",
            "_model_module": "@jupyter-widgets/controls"
          }
        },
        "a5431cffe842449ba0dc8356ff63be3d": {
          "model_module": "@jupyter-widgets/base",
          "model_name": "LayoutModel",
          "state": {
            "_view_name": "LayoutView",
            "grid_template_rows": null,
            "right": null,
            "justify_content": null,
            "_view_module": "@jupyter-widgets/base",
            "overflow": null,
            "_model_module_version": "1.2.0",
            "_view_count": null,
            "flex_flow": null,
            "width": null,
            "min_width": null,
            "border": null,
            "align_items": null,
            "bottom": null,
            "_model_module": "@jupyter-widgets/base",
            "top": null,
            "grid_column": null,
            "overflow_y": null,
            "overflow_x": null,
            "grid_auto_flow": null,
            "grid_area": null,
            "grid_template_columns": null,
            "flex": null,
            "_model_name": "LayoutModel",
            "justify_items": null,
            "grid_row": null,
            "max_height": null,
            "align_content": null,
            "visibility": null,
            "align_self": null,
            "height": null,
            "min_height": null,
            "padding": null,
            "grid_auto_rows": null,
            "grid_gap": null,
            "max_width": null,
            "order": null,
            "_view_module_version": "1.2.0",
            "grid_template_areas": null,
            "object_position": null,
            "object_fit": null,
            "grid_auto_columns": null,
            "margin": null,
            "display": null,
            "left": null
          }
        },
        "0d2239e105e34bd4936e89f3d1e200d3": {
          "model_module": "@jupyter-widgets/controls",
          "model_name": "HBoxModel",
          "state": {
            "_view_name": "HBoxView",
            "_dom_classes": [],
            "_model_name": "HBoxModel",
            "_view_module": "@jupyter-widgets/controls",
            "_model_module_version": "1.5.0",
            "_view_count": null,
            "_view_module_version": "1.5.0",
            "box_style": "",
            "layout": "IPY_MODEL_10fcafabf7e04b66a11fe6dd4da807d5",
            "_model_module": "@jupyter-widgets/controls",
            "children": [
              "IPY_MODEL_19300906f4bf4efea81f5ab8f4155aa3",
              "IPY_MODEL_d7068810fab84f80ae2a45cf9fb858de"
            ]
          }
        },
        "10fcafabf7e04b66a11fe6dd4da807d5": {
          "model_module": "@jupyter-widgets/base",
          "model_name": "LayoutModel",
          "state": {
            "_view_name": "LayoutView",
            "grid_template_rows": null,
            "right": null,
            "justify_content": null,
            "_view_module": "@jupyter-widgets/base",
            "overflow": null,
            "_model_module_version": "1.2.0",
            "_view_count": null,
            "flex_flow": null,
            "width": null,
            "min_width": null,
            "border": null,
            "align_items": null,
            "bottom": null,
            "_model_module": "@jupyter-widgets/base",
            "top": null,
            "grid_column": null,
            "overflow_y": null,
            "overflow_x": null,
            "grid_auto_flow": null,
            "grid_area": null,
            "grid_template_columns": null,
            "flex": null,
            "_model_name": "LayoutModel",
            "justify_items": null,
            "grid_row": null,
            "max_height": null,
            "align_content": null,
            "visibility": null,
            "align_self": null,
            "height": null,
            "min_height": null,
            "padding": null,
            "grid_auto_rows": null,
            "grid_gap": null,
            "max_width": null,
            "order": null,
            "_view_module_version": "1.2.0",
            "grid_template_areas": null,
            "object_position": null,
            "object_fit": null,
            "grid_auto_columns": null,
            "margin": null,
            "display": null,
            "left": null
          }
        },
        "19300906f4bf4efea81f5ab8f4155aa3": {
          "model_module": "@jupyter-widgets/controls",
          "model_name": "FloatProgressModel",
          "state": {
            "_view_name": "ProgressView",
            "style": "IPY_MODEL_6e8fa7372b344f1a9e68f142e83b9c69",
            "_dom_classes": [],
            "description": "Downloading: 100%",
            "_model_name": "FloatProgressModel",
            "bar_style": "success",
            "max": 231508,
            "_view_module": "@jupyter-widgets/controls",
            "_model_module_version": "1.5.0",
            "value": 231508,
            "_view_count": null,
            "_view_module_version": "1.5.0",
            "orientation": "horizontal",
            "min": 0,
            "description_tooltip": null,
            "_model_module": "@jupyter-widgets/controls",
            "layout": "IPY_MODEL_d28771a5ea204242b34b2715b52f5bd5"
          }
        },
        "d7068810fab84f80ae2a45cf9fb858de": {
          "model_module": "@jupyter-widgets/controls",
          "model_name": "HTMLModel",
          "state": {
            "_view_name": "HTMLView",
            "style": "IPY_MODEL_80b65123ba004b148d9c65db75a3e311",
            "_dom_classes": [],
            "description": "",
            "_model_name": "HTMLModel",
            "placeholder": "​",
            "_view_module": "@jupyter-widgets/controls",
            "_model_module_version": "1.5.0",
            "value": " 232k/232k [00:00&lt;00:00, 3.06MB/s]",
            "_view_count": null,
            "_view_module_version": "1.5.0",
            "description_tooltip": null,
            "_model_module": "@jupyter-widgets/controls",
            "layout": "IPY_MODEL_98582ca5581c44db8e2c84b379a03a7e"
          }
        },
        "6e8fa7372b344f1a9e68f142e83b9c69": {
          "model_module": "@jupyter-widgets/controls",
          "model_name": "ProgressStyleModel",
          "state": {
            "_view_name": "StyleView",
            "_model_name": "ProgressStyleModel",
            "description_width": "initial",
            "_view_module": "@jupyter-widgets/base",
            "_model_module_version": "1.5.0",
            "_view_count": null,
            "_view_module_version": "1.2.0",
            "bar_color": null,
            "_model_module": "@jupyter-widgets/controls"
          }
        },
        "d28771a5ea204242b34b2715b52f5bd5": {
          "model_module": "@jupyter-widgets/base",
          "model_name": "LayoutModel",
          "state": {
            "_view_name": "LayoutView",
            "grid_template_rows": null,
            "right": null,
            "justify_content": null,
            "_view_module": "@jupyter-widgets/base",
            "overflow": null,
            "_model_module_version": "1.2.0",
            "_view_count": null,
            "flex_flow": null,
            "width": null,
            "min_width": null,
            "border": null,
            "align_items": null,
            "bottom": null,
            "_model_module": "@jupyter-widgets/base",
            "top": null,
            "grid_column": null,
            "overflow_y": null,
            "overflow_x": null,
            "grid_auto_flow": null,
            "grid_area": null,
            "grid_template_columns": null,
            "flex": null,
            "_model_name": "LayoutModel",
            "justify_items": null,
            "grid_row": null,
            "max_height": null,
            "align_content": null,
            "visibility": null,
            "align_self": null,
            "height": null,
            "min_height": null,
            "padding": null,
            "grid_auto_rows": null,
            "grid_gap": null,
            "max_width": null,
            "order": null,
            "_view_module_version": "1.2.0",
            "grid_template_areas": null,
            "object_position": null,
            "object_fit": null,
            "grid_auto_columns": null,
            "margin": null,
            "display": null,
            "left": null
          }
        },
        "80b65123ba004b148d9c65db75a3e311": {
          "model_module": "@jupyter-widgets/controls",
          "model_name": "DescriptionStyleModel",
          "state": {
            "_view_name": "StyleView",
            "_model_name": "DescriptionStyleModel",
            "description_width": "",
            "_view_module": "@jupyter-widgets/base",
            "_model_module_version": "1.5.0",
            "_view_count": null,
            "_view_module_version": "1.2.0",
            "_model_module": "@jupyter-widgets/controls"
          }
        },
        "98582ca5581c44db8e2c84b379a03a7e": {
          "model_module": "@jupyter-widgets/base",
          "model_name": "LayoutModel",
          "state": {
            "_view_name": "LayoutView",
            "grid_template_rows": null,
            "right": null,
            "justify_content": null,
            "_view_module": "@jupyter-widgets/base",
            "overflow": null,
            "_model_module_version": "1.2.0",
            "_view_count": null,
            "flex_flow": null,
            "width": null,
            "min_width": null,
            "border": null,
            "align_items": null,
            "bottom": null,
            "_model_module": "@jupyter-widgets/base",
            "top": null,
            "grid_column": null,
            "overflow_y": null,
            "overflow_x": null,
            "grid_auto_flow": null,
            "grid_area": null,
            "grid_template_columns": null,
            "flex": null,
            "_model_name": "LayoutModel",
            "justify_items": null,
            "grid_row": null,
            "max_height": null,
            "align_content": null,
            "visibility": null,
            "align_self": null,
            "height": null,
            "min_height": null,
            "padding": null,
            "grid_auto_rows": null,
            "grid_gap": null,
            "max_width": null,
            "order": null,
            "_view_module_version": "1.2.0",
            "grid_template_areas": null,
            "object_position": null,
            "object_fit": null,
            "grid_auto_columns": null,
            "margin": null,
            "display": null,
            "left": null
          }
        }
      }
    }
  },
  "cells": [
    {
      "cell_type": "markdown",
      "metadata": {
        "id": "view-in-github",
        "colab_type": "text"
      },
      "source": [
        "<a href=\"https://colab.research.google.com/github/karthikpuranik11/Hope-Speech-Detection-/blob/main/English/CharacterBERT.ipynb\" target=\"_parent\"><img src=\"https://colab.research.google.com/assets/colab-badge.svg\" alt=\"Open In Colab\"/></a>"
      ]
    },
    {
      "cell_type": "code",
      "metadata": {
        "id": "2oRXV9J_pKrA",
        "colab": {
          "base_uri": "https://localhost:8080/"
        },
        "outputId": "94cab450-a615-462a-8ae9-54028a4d6ca3"
      },
      "source": [
        "!pip install transformers==3.3.1"
      ],
      "execution_count": 2,
      "outputs": [
        {
          "output_type": "stream",
          "text": [
            "Collecting transformers==3.3.1\n",
            "\u001b[?25l  Downloading https://files.pythonhosted.org/packages/19/22/aff234f4a841f8999e68a7a94bdd4b60b4cebcfeca5d67d61cd08c9179de/transformers-3.3.1-py3-none-any.whl (1.1MB)\n",
            "\u001b[K     |████████████████████████████████| 1.1MB 13.0MB/s \n",
            "\u001b[?25hRequirement already satisfied: dataclasses; python_version < \"3.7\" in /usr/local/lib/python3.6/dist-packages (from transformers==3.3.1) (0.8)\n",
            "Requirement already satisfied: requests in /usr/local/lib/python3.6/dist-packages (from transformers==3.3.1) (2.23.0)\n",
            "Collecting sacremoses\n",
            "\u001b[?25l  Downloading https://files.pythonhosted.org/packages/7d/34/09d19aff26edcc8eb2a01bed8e98f13a1537005d31e95233fd48216eed10/sacremoses-0.0.43.tar.gz (883kB)\n",
            "\u001b[K     |████████████████████████████████| 890kB 51.3MB/s \n",
            "\u001b[?25hRequirement already satisfied: regex!=2019.12.17 in /usr/local/lib/python3.6/dist-packages (from transformers==3.3.1) (2019.12.20)\n",
            "Requirement already satisfied: filelock in /usr/local/lib/python3.6/dist-packages (from transformers==3.3.1) (3.0.12)\n",
            "Requirement already satisfied: packaging in /usr/local/lib/python3.6/dist-packages (from transformers==3.3.1) (20.8)\n",
            "Requirement already satisfied: numpy in /usr/local/lib/python3.6/dist-packages (from transformers==3.3.1) (1.19.4)\n",
            "Collecting sentencepiece!=0.1.92\n",
            "\u001b[?25l  Downloading https://files.pythonhosted.org/packages/e5/2d/6d4ca4bef9a67070fa1cac508606328329152b1df10bdf31fb6e4e727894/sentencepiece-0.1.94-cp36-cp36m-manylinux2014_x86_64.whl (1.1MB)\n",
            "\u001b[K     |████████████████████████████████| 1.1MB 46.6MB/s \n",
            "\u001b[?25hCollecting tokenizers==0.8.1.rc2\n",
            "\u001b[?25l  Downloading https://files.pythonhosted.org/packages/80/83/8b9fccb9e48eeb575ee19179e2bdde0ee9a1904f97de5f02d19016b8804f/tokenizers-0.8.1rc2-cp36-cp36m-manylinux1_x86_64.whl (3.0MB)\n",
            "\u001b[K     |████████████████████████████████| 3.0MB 50.2MB/s \n",
            "\u001b[?25hRequirement already satisfied: tqdm>=4.27 in /usr/local/lib/python3.6/dist-packages (from transformers==3.3.1) (4.41.1)\n",
            "Requirement already satisfied: chardet<4,>=3.0.2 in /usr/local/lib/python3.6/dist-packages (from requests->transformers==3.3.1) (3.0.4)\n",
            "Requirement already satisfied: certifi>=2017.4.17 in /usr/local/lib/python3.6/dist-packages (from requests->transformers==3.3.1) (2020.12.5)\n",
            "Requirement already satisfied: urllib3!=1.25.0,!=1.25.1,<1.26,>=1.21.1 in /usr/local/lib/python3.6/dist-packages (from requests->transformers==3.3.1) (1.24.3)\n",
            "Requirement already satisfied: idna<3,>=2.5 in /usr/local/lib/python3.6/dist-packages (from requests->transformers==3.3.1) (2.10)\n",
            "Requirement already satisfied: six in /usr/local/lib/python3.6/dist-packages (from sacremoses->transformers==3.3.1) (1.15.0)\n",
            "Requirement already satisfied: click in /usr/local/lib/python3.6/dist-packages (from sacremoses->transformers==3.3.1) (7.1.2)\n",
            "Requirement already satisfied: joblib in /usr/local/lib/python3.6/dist-packages (from sacremoses->transformers==3.3.1) (1.0.0)\n",
            "Requirement already satisfied: pyparsing>=2.0.2 in /usr/local/lib/python3.6/dist-packages (from packaging->transformers==3.3.1) (2.4.7)\n",
            "Building wheels for collected packages: sacremoses\n",
            "  Building wheel for sacremoses (setup.py) ... \u001b[?25l\u001b[?25hdone\n",
            "  Created wheel for sacremoses: filename=sacremoses-0.0.43-cp36-none-any.whl size=893261 sha256=ab91fd3bff7738fc49c92a7f21a2c46ba50294eed946885742c21b0f1b7447c5\n",
            "  Stored in directory: /root/.cache/pip/wheels/29/3c/fd/7ce5c3f0666dab31a50123635e6fb5e19ceb42ce38d4e58f45\n",
            "Successfully built sacremoses\n",
            "Installing collected packages: sacremoses, sentencepiece, tokenizers, transformers\n",
            "Successfully installed sacremoses-0.0.43 sentencepiece-0.1.94 tokenizers-0.8.1rc2 transformers-3.3.1\n"
          ],
          "name": "stdout"
        }
      ]
    },
    {
      "cell_type": "code",
      "metadata": {
        "id": "MkkoScP_25nW",
        "colab": {
          "base_uri": "https://localhost:8080/"
        },
        "outputId": "93aff999-5194-4246-ad5e-cab2a910786c"
      },
      "source": [
        "!git clone https://github.com/helboukkouri/character-bert.git"
      ],
      "execution_count": 3,
      "outputs": [
        {
          "output_type": "stream",
          "text": [
            "Cloning into 'character-bert'...\n",
            "remote: Enumerating objects: 51, done.\u001b[K\n",
            "remote: Counting objects: 100% (51/51), done.\u001b[K\n",
            "remote: Compressing objects: 100% (49/49), done.\u001b[K\n",
            "remote: Total 51 (delta 12), reused 31 (delta 0), pack-reused 0\u001b[K\n",
            "Unpacking objects: 100% (51/51), done.\n"
          ],
          "name": "stdout"
        }
      ]
    },
    {
      "cell_type": "code",
      "metadata": {
        "colab": {
          "base_uri": "https://localhost:8080/"
        },
        "id": "r0M-zGvT3b8K",
        "outputId": "f7e07ed8-b0b3-4cfe-af8b-9579d5d49ddb"
      },
      "source": [
        "cd /content/character-bert/ "
      ],
      "execution_count": 4,
      "outputs": [
        {
          "output_type": "stream",
          "text": [
            "/content/character-bert\n"
          ],
          "name": "stdout"
        }
      ]
    },
    {
      "cell_type": "code",
      "metadata": {
        "colab": {
          "base_uri": "https://localhost:8080/"
        },
        "id": "Zl_bTHk93gMo",
        "outputId": "7bec2620-29de-4596-c71c-87e23beb6482"
      },
      "source": [
        "!python download.py --model='general_character_bert'"
      ],
      "execution_count": 5,
      "outputs": [
        {
          "output_type": "stream",
          "text": [
            "04/01/2021 09:07:16 - INFO - download.py -   Downloading general_character_bert model (~200MB tar.xz archive)\n",
            "04/01/2021 09:07:20 - INFO - download.py -   Extracting model from archive (~420MB folder)\n",
            "04/01/2021 09:07:34 - INFO - download.py -   Removing archive\n",
            "04/01/2021 09:07:34 - INFO - download.py -   Done.\n"
          ],
          "name": "stdout"
        }
      ]
    },
    {
      "cell_type": "code",
      "metadata": {
        "colab": {
          "base_uri": "https://localhost:8080/"
        },
        "id": "1tSd_zLk3qU1",
        "outputId": "d042c473-b005-47da-a2f9-7f0d1b322726"
      },
      "source": [
        "import numpy as np\r\n",
        "import pandas as pd\r\n",
        "import time\r\n",
        "import re\r\n",
        "from keras.preprocessing.sequence import pad_sequences\r\n",
        "from sklearn.model_selection import train_test_split\r\n",
        "from sklearn.metrics import classification\r\n",
        "from torch.utils.data import Dataset,DataLoader,TensorDataset,RandomSampler,SequentialSampler\r\n",
        "from transformers import BertConfig,BertTokenizer,BertForSequenceClassification,AdamW\r\n",
        "from modeling.character_bert import CharacterBertModel\r\n",
        "from utils.character_cnn import CharacterIndexer\r\n",
        "from tqdm import trange,tqdm\r\n",
        "import torch\r\n",
        "import torch.nn as nn\r\n",
        "from sklearn.preprocessing import LabelEncoder"
      ],
      "execution_count": 6,
      "outputs": [
        {
          "output_type": "stream",
          "text": [
            "/usr/local/lib/python3.6/dist-packages/sklearn/utils/deprecation.py:144: FutureWarning: The sklearn.metrics.classification module is  deprecated in version 0.22 and will be removed in version 0.24. The corresponding classes / functions should instead be imported from sklearn.metrics. Anything that cannot be imported from sklearn.metrics is now part of the private API.\n",
            "  warnings.warn(message, FutureWarning)\n"
          ],
          "name": "stderr"
        }
      ]
    },
    {
      "cell_type": "code",
      "metadata": {
        "id": "MvbWv_MQ4q8a"
      },
      "source": [
        "def epoch_time(start_time, end_time):\r\n",
        "  elapsed_time = end_time - start_time\r\n",
        "  elapsed_mins = int(elapsed_time / 60)\r\n",
        "  elapsed_secs = int(elapsed_time - (elapsed_mins * 60))\r\n",
        "  return elapsed_mins, elapsed_secs"
      ],
      "execution_count": 7,
      "outputs": []
    },
    {
      "cell_type": "code",
      "metadata": {
        "id": "Oe3kRbZB5Y0V",
        "colab": {
          "base_uri": "https://localhost:8080/",
          "height": 115,
          "referenced_widgets": [
            "c67ffe35a9dc406ca094d299f6ecc974",
            "8db190938a3749b887e65b46a7546f6e",
            "b3d442061fec42588a9682acf9b4ec3f",
            "f532e6650aa2459b8da144d4c5b94a8e",
            "725ea116733942eb8573e76f696ebbf0",
            "c5ed29aa0fb44cd98f3c32478e040dc3",
            "eb6da031f85a40c5bb76d99cb771531d",
            "a5431cffe842449ba0dc8356ff63be3d",
            "0d2239e105e34bd4936e89f3d1e200d3",
            "10fcafabf7e04b66a11fe6dd4da807d5",
            "19300906f4bf4efea81f5ab8f4155aa3",
            "d7068810fab84f80ae2a45cf9fb858de",
            "6e8fa7372b344f1a9e68f142e83b9c69",
            "d28771a5ea204242b34b2715b52f5bd5",
            "80b65123ba004b148d9c65db75a3e311",
            "98582ca5581c44db8e2c84b379a03a7e"
          ]
        },
        "outputId": "b603052b-65a3-4a66-f2eb-9ee4cf6ec4fc"
      },
      "source": [
        "config = BertConfig.from_pretrained('bert-base-uncased',num_labels=3)\r\n",
        "model = BertForSequenceClassification(config= config)\r\n",
        "character_bert_model = CharacterBertModel.from_pretrained('./pretrained-models/general_character_bert/')\r\n",
        "model.bert = character_bert_model\r\n",
        "tokenizer = BertTokenizer.from_pretrained('bert-base-uncased')\r\n",
        "model.cuda()\r\n",
        "device = 'cuda'"
      ],
      "execution_count": 8,
      "outputs": [
        {
          "output_type": "display_data",
          "data": {
            "application/vnd.jupyter.widget-view+json": {
              "model_id": "c67ffe35a9dc406ca094d299f6ecc974",
              "version_minor": 0,
              "version_major": 2
            },
            "text/plain": [
              "HBox(children=(FloatProgress(value=0.0, description='Downloading', max=433.0, style=ProgressStyle(description_…"
            ]
          },
          "metadata": {
            "tags": []
          }
        },
        {
          "output_type": "stream",
          "text": [
            "\n"
          ],
          "name": "stdout"
        },
        {
          "output_type": "display_data",
          "data": {
            "application/vnd.jupyter.widget-view+json": {
              "model_id": "0d2239e105e34bd4936e89f3d1e200d3",
              "version_minor": 0,
              "version_major": 2
            },
            "text/plain": [
              "HBox(children=(FloatProgress(value=0.0, description='Downloading', max=231508.0, style=ProgressStyle(descripti…"
            ]
          },
          "metadata": {
            "tags": []
          }
        },
        {
          "output_type": "stream",
          "text": [
            "\n"
          ],
          "name": "stdout"
        }
      ]
    },
    {
      "cell_type": "code",
      "metadata": {
        "colab": {
          "base_uri": "https://localhost:8080/"
        },
        "id": "ABAkXWHt6Mtx",
        "outputId": "7e7ad0fc-758a-406a-adaf-484b4771bbeb"
      },
      "source": [
        "train=pd.read_csv('/content/english_hope_train.csv', header=None, names=['tweets','label','nan'], sep=\"\\t\")\r\n",
        "#train['labels']=LabelEncoder().fit_transform(train['label'])\r\n",
        "train=train.drop(columns=['nan'])\r\n",
        "train.label.value_counts()"
      ],
      "execution_count": 9,
      "outputs": [
        {
          "output_type": "execute_result",
          "data": {
            "text/plain": [
              "Non_hope_speech    20778\n",
              "Hope_speech         1962\n",
              "not-English           22\n",
              "Name: label, dtype: int64"
            ]
          },
          "metadata": {
            "tags": []
          },
          "execution_count": 9
        }
      ]
    },
    {
      "cell_type": "code",
      "metadata": {
        "colab": {
          "base_uri": "https://localhost:8080/"
        },
        "id": "Ng8Q5WUp6nrF",
        "outputId": "ee25e196-ca44-4e20-d810-7fd7db1ecde7"
      },
      "source": [
        "val=pd.read_csv('/content/english_hope_dev.csv', header=None, names=['tweets','label','nan'], sep=\"\\t\")\r\n",
        "#val['labels']=LabelEncoder().fit_transform(val['label'])\r\n",
        "val=val.drop(columns=['nan'])\r\n",
        "val.label.value_counts()"
      ],
      "execution_count": 10,
      "outputs": [
        {
          "output_type": "execute_result",
          "data": {
            "text/plain": [
              "Non_hope_speech    2569\n",
              "Hope_speech         272\n",
              "not-English           2\n",
              "Name: label, dtype: int64"
            ]
          },
          "metadata": {
            "tags": []
          },
          "execution_count": 10
        }
      ]
    },
    {
      "cell_type": "code",
      "metadata": {
        "colab": {
          "base_uri": "https://localhost:8080/"
        },
        "id": "uJZDCzSZr_dg",
        "outputId": "e7e72f0f-2b70-45ee-ec1b-6237cca6834b"
      },
      "source": [
        "def punc(df):\r\n",
        "    df['tweets'] = df['tweets'].str.replace(r\"[+/#@&*$%:0-9]\",'')\r\n",
        "    print(df)\r\n",
        "punc(train)\r\n",
        "punc(val)"
      ],
      "execution_count": 16,
      "outputs": [
        {
          "output_type": "stream",
          "text": [
            "                                                  tweets            label\n",
            "0      these tiktoks radiate gay chaotic energy and i...  Non_hope_speech\n",
            "1      Champions Again He got killed for using false ...  Non_hope_speech\n",
            "2                   It's not that all lives don't matter  Non_hope_speech\n",
            "3      Is it really that difficult to understand? Bla...  Non_hope_speech\n",
            "4      Whenever we say black isn't that racists?  Why...  Non_hope_speech\n",
            "...                                                  ...              ...\n",
            "22757  It's a load of bollocks every life matters sim...  Non_hope_speech\n",
            "22758  no say it because all lives matter! deku would...  Non_hope_speech\n",
            "22759                          God says her life matters  Non_hope_speech\n",
            "22760  This video is just shit. A bunch of whiny ass ...  Non_hope_speech\n",
            "22761  Mc Fortnut she did  months ago in west church ...  Non_hope_speech\n",
            "\n",
            "[22762 rows x 2 columns]\n",
            "                                                 tweets            label\n",
            "0          Thats it.... like....I dont like that statue  Non_hope_speech\n",
            "1     Generation X Counting money that she been give...  Non_hope_speech\n",
            "2     Paola Hernandez i never said to be intolerant ...  Non_hope_speech\n",
            "3     Firstlast Wow An opinion is that I don't like ...  Non_hope_speech\n",
            "4     WOW!!!!!!!That was so so inspiring and incredi...      Hope_speech\n",
            "...                                                 ...              ...\n",
            "2838                             Such fake sentiment. .  Non_hope_speech\n",
            "2839  A G black lives arent undervalued compared to ...  Non_hope_speech\n",
            "2840  People who pulled it down can and will be arre...  Non_hope_speech\n",
            "2841  Aaron Castellanos It will be a two hour movie ...  Non_hope_speech\n",
            "2842  why is there no footage of the riots and the v...      Hope_speech\n",
            "\n",
            "[2843 rows x 2 columns]\n"
          ],
          "name": "stdout"
        }
      ]
    },
    {
      "cell_type": "code",
      "metadata": {
        "id": "55b_PbDusMF8"
      },
      "source": [
        "frames = [train,val]\r\n",
        "df = pd.concat(frames)"
      ],
      "execution_count": 21,
      "outputs": []
    },
    {
      "cell_type": "code",
      "metadata": {
        "colab": {
          "base_uri": "https://localhost:8080/"
        },
        "id": "Dz7-9J5ysVs3",
        "outputId": "369b10cf-4c73-4569-ecd8-77fd980ac7d3"
      },
      "source": [
        "len(train),len(val)\r\n",
        "print(round(2843/(22762+2843),4))"
      ],
      "execution_count": 27,
      "outputs": [
        {
          "output_type": "stream",
          "text": [
            "0.111\n"
          ],
          "name": "stdout"
        }
      ]
    },
    {
      "cell_type": "code",
      "metadata": {
        "id": "oY2D1YCR663i"
      },
      "source": [
        "df['label'],uniq = pd.factorize(df['label'])\r\n",
        "X = df['tweets'].tolist()\r\n",
        "tokenized = [tokenizer.basic_tokenizer.tokenize(text) for text in X]\r\n",
        "indexer = CharacterIndexer()\r\n",
        "input_tensor = indexer.as_padded_tensor(tokenized)\r\n",
        "X_train,X_test,y_train,y_test = train_test_split(input_tensor,df['label'].tolist(),\r\n",
        "                                                 test_size=0.111,random_state=42)\r\n"
      ],
      "execution_count": 29,
      "outputs": []
    },
    {
      "cell_type": "code",
      "metadata": {
        "id": "gRdO9ZCR8Thu"
      },
      "source": [
        "batch_size = 32\r\n",
        "y_train,y_test = torch.tensor(y_train),torch.tensor(y_test)\r\n",
        "train_data = TensorDataset(X_train,y_train)\r\n",
        "train_dataloader = DataLoader(train_data,batch_size = batch_size)\r\n",
        "val_data = TensorDataset(X_test,y_test)\r\n",
        "val_dataloader = DataLoader(val_data,batch_size=batch_size)"
      ],
      "execution_count": 30,
      "outputs": []
    },
    {
      "cell_type": "code",
      "metadata": {
        "id": "v6HjH3nc-ItN"
      },
      "source": [
        "param_optimizer = list(model.named_parameters())\r\n",
        "no_decay = ['bias', 'gamma', 'beta']\r\n",
        "optimizer_grouped_parameters = [\r\n",
        "    {'params': [p for n, p in param_optimizer if not any(nd in n for nd in no_decay)],\r\n",
        "     'weight_decay_rate': 0.01},\r\n",
        "    {'params': [p for n, p in param_optimizer if any(nd in n for nd in no_decay)],\r\n",
        "     'weight_decay_rate': 0.0}\r\n",
        "]\r\n",
        "loss_fn = nn.CrossEntropyLoss().to(device)\r\n",
        "optimizer = AdamW(optimizer_grouped_parameters,lr=2e-5)"
      ],
      "execution_count": 31,
      "outputs": []
    },
    {
      "cell_type": "code",
      "metadata": {
        "colab": {
          "base_uri": "https://localhost:8080/"
        },
        "id": "V84E_F0C-LaY",
        "outputId": "32589cc4-8108-42ee-ed70-707f87804a7e"
      },
      "source": [
        "train_loss_set = []\r\n",
        "epochs = 3\r\n",
        "from collections import defaultdict\r\n",
        "history = defaultdict(list)\r\n",
        "\r\n",
        "for _ in trange(epochs, desc=\"Epoch\"):\r\n",
        "  start_time = time.time()\r\n",
        "  model.train()\r\n",
        "  tr_loss = 0\r\n",
        "  nb_tr_examples, nb_tr_steps = 0, 0\r\n",
        "  \r\n",
        "  for step, batch in enumerate(train_dataloader):\r\n",
        "\r\n",
        "    batch = tuple(t.to(device) for t in batch)\r\n",
        "  \r\n",
        "    b_input_ids, b_labels = batch\r\n",
        "\r\n",
        "    optimizer.zero_grad()\r\n",
        "  \r\n",
        "    outputs = model(b_input_ids)[0]\r\n",
        "    \r\n",
        "    loss = loss_fn(outputs,b_labels)\r\n",
        "    train_loss_set.append(loss.item())    \r\n",
        "    \r\n",
        "    loss.backward()\r\n",
        "\r\n",
        "    optimizer.step()\r\n",
        "    \r\n",
        "    tr_loss += loss.item()\r\n",
        "    nb_tr_examples += b_input_ids.size(0)\r\n",
        "    nb_tr_steps += 1\r\n",
        "  end_time = time.time()\r\n",
        "\r\n",
        "  #epoch_mins, epoch_secs = epoch_time(start_time, end_time)\r\n",
        "  print(epoch_time(start_time,end_time))\r\n",
        "  print(\"\\nTrain loss: {}\".format(tr_loss/nb_tr_steps))\r\n",
        "torch.save(model.state_dict(),'general-character-bert.bin')"
      ],
      "execution_count": 32,
      "outputs": [
        {
          "output_type": "stream",
          "text": [
            "Epoch:  33%|███▎      | 1/3 [22:18<44:37, 1338.82s/it]"
          ],
          "name": "stderr"
        },
        {
          "output_type": "stream",
          "text": [
            "(22, 18)\n",
            "\n",
            "Train loss: 0.22667165134845071\n"
          ],
          "name": "stdout"
        },
        {
          "output_type": "stream",
          "text": [
            "\rEpoch:  67%|██████▋   | 2/3 [44:53<22:23, 1343.54s/it]"
          ],
          "name": "stderr"
        },
        {
          "output_type": "stream",
          "text": [
            "(22, 34)\n",
            "\n",
            "Train loss: 0.16001366102856093\n"
          ],
          "name": "stdout"
        },
        {
          "output_type": "stream",
          "text": [
            "Epoch: 100%|██████████| 3/3 [1:07:26<00:00, 1348.94s/it]"
          ],
          "name": "stderr"
        },
        {
          "output_type": "stream",
          "text": [
            "(22, 33)\n",
            "\n",
            "Train loss: 0.1152677056124549\n"
          ],
          "name": "stdout"
        },
        {
          "output_type": "stream",
          "text": [
            "\n"
          ],
          "name": "stderr"
        }
      ]
    },
    {
      "cell_type": "code",
      "metadata": {
        "id": "yEw_C4S9-_DG"
      },
      "source": [
        "preds = []\r\n",
        "with torch.no_grad():\r\n",
        "  correct = 0\r\n",
        "  total = 0\r\n",
        "  for i, batch in enumerate(val_dataloader):\r\n",
        "    batch = tuple(t.to(device) for t in batch)\r\n",
        "\r\n",
        "    b_input_ids, b_labels = batch\r\n",
        "    \r\n",
        "    outputs = model(b_input_ids)[0]\r\n",
        "    # print (outputs)\r\n",
        "    prediction = torch.argmax(outputs,dim=1)\r\n",
        "    preds.append(prediction)\r\n",
        "    total += b_labels.size(0)\r\n",
        "    correct+=(prediction==b_labels).sum().item()"
      ],
      "execution_count": 33,
      "outputs": []
    },
    {
      "cell_type": "code",
      "metadata": {
        "id": "ap9bybfrTMX5"
      },
      "source": [
        "final_preds = []\r\n",
        "for tensor in preds:\r\n",
        "  for pred in tensor:\r\n",
        "    final_preds.append(int(pred))"
      ],
      "execution_count": 34,
      "outputs": []
    },
    {
      "cell_type": "code",
      "metadata": {
        "colab": {
          "base_uri": "https://localhost:8080/"
        },
        "id": "WxKdBCZ-TP04",
        "outputId": "1e2a9f24-54c6-4281-8b54-6ea472f3a2c4"
      },
      "source": [
        "from sklearn.metrics import classification_report\r\n",
        "print(classification_report(y_test,final_preds))"
      ],
      "execution_count": 35,
      "outputs": [
        {
          "output_type": "stream",
          "text": [
            "              precision    recall  f1-score   support\n",
            "\n",
            "           0       0.96      0.96      0.96      2604\n",
            "           1       0.54      0.54      0.54       233\n",
            "           2       0.00      0.00      0.00         6\n",
            "\n",
            "    accuracy                           0.92      2843\n",
            "   macro avg       0.50      0.50      0.50      2843\n",
            "weighted avg       0.92      0.92      0.92      2843\n",
            "\n"
          ],
          "name": "stdout"
        },
        {
          "output_type": "stream",
          "text": [
            "/usr/local/lib/python3.6/dist-packages/sklearn/metrics/_classification.py:1272: UndefinedMetricWarning: Precision and F-score are ill-defined and being set to 0.0 in labels with no predicted samples. Use `zero_division` parameter to control this behavior.\n",
            "  _warn_prf(average, modifier, msg_start, len(result))\n"
          ],
          "name": "stderr"
        }
      ]
    },
    {
      "cell_type": "code",
      "metadata": {
        "id": "wY5spW9-TSII"
      },
      "source": [
        ""
      ],
      "execution_count": null,
      "outputs": []
    },
    {
      "cell_type": "code",
      "metadata": {
        "colab": {
          "base_uri": "https://localhost:8080/"
        },
        "id": "rk_d1ch-j0_F",
        "outputId": "b2a2180a-4220-4a58-8c17-70697070d7ee"
      },
      "source": [
        "from google.colab import drive\n",
        "drive.mount('/content/drive')"
      ],
      "execution_count": 1,
      "outputs": [
        {
          "output_type": "stream",
          "text": [
            "Mounted at /content/drive\n"
          ],
          "name": "stdout"
        }
      ]
    },
    {
      "cell_type": "code",
      "metadata": {
        "id": "X9J2HJOsrhhW"
      },
      "source": [
        ""
      ],
      "execution_count": null,
      "outputs": []
    }
  ]
}