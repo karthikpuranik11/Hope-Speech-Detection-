{
  "nbformat": 4,
  "nbformat_minor": 0,
  "metadata": {
    "colab": {
      "name": "Hopespeech_multilingual_distilbert_cased",
      "provenance": [],
      "collapsed_sections": [],
      "include_colab_link": true
    },
    "kernelspec": {
      "name": "python3",
      "display_name": "Python 3"
    },
    "accelerator": "GPU"
  },
  "cells": [
    {
      "cell_type": "markdown",
      "metadata": {
        "id": "view-in-github",
        "colab_type": "text"
      },
      "source": [
        "<a href=\"https://colab.research.google.com/github/karthikpuranik11/Hope-Speech-Detection-/blob/main/Malayalam/Hopespeech_multilingual_distilbert_cased.ipynb\" target=\"_parent\"><img src=\"https://colab.research.google.com/assets/colab-badge.svg\" alt=\"Open In Colab\"/></a>"
      ]
    },
    {
      "cell_type": "code",
      "metadata": {
        "colab": {
          "base_uri": "https://localhost:8080/"
        },
        "id": "qp9ne18LI0ZD",
        "outputId": "cfdfb2fc-25ea-444a-d440-08ffc2a1e3f2"
      },
      "source": [
        "!pip install transformers==3.3.1"
      ],
      "execution_count": 1,
      "outputs": [
        {
          "output_type": "stream",
          "text": [
            "Requirement already satisfied: transformers==3.3.1 in /usr/local/lib/python3.6/dist-packages (3.3.1)\n",
            "Requirement already satisfied: sacremoses in /usr/local/lib/python3.6/dist-packages (from transformers==3.3.1) (0.0.43)\n",
            "Requirement already satisfied: sentencepiece!=0.1.92 in /usr/local/lib/python3.6/dist-packages (from transformers==3.3.1) (0.1.95)\n",
            "Requirement already satisfied: requests in /usr/local/lib/python3.6/dist-packages (from transformers==3.3.1) (2.23.0)\n",
            "Requirement already satisfied: numpy in /usr/local/lib/python3.6/dist-packages (from transformers==3.3.1) (1.19.5)\n",
            "Requirement already satisfied: tqdm>=4.27 in /usr/local/lib/python3.6/dist-packages (from transformers==3.3.1) (4.41.1)\n",
            "Requirement already satisfied: packaging in /usr/local/lib/python3.6/dist-packages (from transformers==3.3.1) (20.8)\n",
            "Requirement already satisfied: dataclasses; python_version < \"3.7\" in /usr/local/lib/python3.6/dist-packages (from transformers==3.3.1) (0.8)\n",
            "Requirement already satisfied: regex!=2019.12.17 in /usr/local/lib/python3.6/dist-packages (from transformers==3.3.1) (2019.12.20)\n",
            "Requirement already satisfied: tokenizers==0.8.1.rc2 in /usr/local/lib/python3.6/dist-packages (from transformers==3.3.1) (0.8.1rc2)\n",
            "Requirement already satisfied: filelock in /usr/local/lib/python3.6/dist-packages (from transformers==3.3.1) (3.0.12)\n",
            "Requirement already satisfied: joblib in /usr/local/lib/python3.6/dist-packages (from sacremoses->transformers==3.3.1) (1.0.0)\n",
            "Requirement already satisfied: six in /usr/local/lib/python3.6/dist-packages (from sacremoses->transformers==3.3.1) (1.15.0)\n",
            "Requirement already satisfied: click in /usr/local/lib/python3.6/dist-packages (from sacremoses->transformers==3.3.1) (7.1.2)\n",
            "Requirement already satisfied: chardet<4,>=3.0.2 in /usr/local/lib/python3.6/dist-packages (from requests->transformers==3.3.1) (3.0.4)\n",
            "Requirement already satisfied: idna<3,>=2.5 in /usr/local/lib/python3.6/dist-packages (from requests->transformers==3.3.1) (2.10)\n",
            "Requirement already satisfied: certifi>=2017.4.17 in /usr/local/lib/python3.6/dist-packages (from requests->transformers==3.3.1) (2020.12.5)\n",
            "Requirement already satisfied: urllib3!=1.25.0,!=1.25.1,<1.26,>=1.21.1 in /usr/local/lib/python3.6/dist-packages (from requests->transformers==3.3.1) (1.24.3)\n",
            "Requirement already satisfied: pyparsing>=2.0.2 in /usr/local/lib/python3.6/dist-packages (from packaging->transformers==3.3.1) (2.4.7)\n"
          ],
          "name": "stdout"
        }
      ]
    },
    {
      "cell_type": "code",
      "metadata": {
        "id": "BGoQZFFYJlu8"
      },
      "source": [
        "import pandas as pd\r\n",
        "import numpy as np\r\n",
        "from sklearn.preprocessing import LabelEncoder"
      ],
      "execution_count": 2,
      "outputs": []
    },
    {
      "cell_type": "code",
      "metadata": {
        "id": "ugWqH7iskbgF",
        "colab": {
          "base_uri": "https://localhost:8080/",
          "height": 415
        },
        "outputId": "366f3fdc-e569-47b8-bcc5-a86eca3264ea"
      },
      "source": [
        "train=pd.read_csv('/content/malayalam_hope_train.tsv', header=None, names=['tweets','label'], sep=\"\\t\")\r\n",
        "train['labels']=LabelEncoder().fit_transform(train['label'])\r\n",
        "train=train.drop(columns='label')\r\n",
        "train"
      ],
      "execution_count": 3,
      "outputs": [
        {
          "output_type": "execute_result",
          "data": {
            "text/html": [
              "<div>\n",
              "<style scoped>\n",
              "    .dataframe tbody tr th:only-of-type {\n",
              "        vertical-align: middle;\n",
              "    }\n",
              "\n",
              "    .dataframe tbody tr th {\n",
              "        vertical-align: top;\n",
              "    }\n",
              "\n",
              "    .dataframe thead th {\n",
              "        text-align: right;\n",
              "    }\n",
              "</style>\n",
              "<table border=\"1\" class=\"dataframe\">\n",
              "  <thead>\n",
              "    <tr style=\"text-align: right;\">\n",
              "      <th></th>\n",
              "      <th>tweets</th>\n",
              "      <th>labels</th>\n",
              "    </tr>\n",
              "  </thead>\n",
              "  <tbody>\n",
              "    <tr>\n",
              "      <th>0</th>\n",
              "      <td>@arya s nair may be athile karthikayude charct...</td>\n",
              "      <td>1</td>\n",
              "    </tr>\n",
              "    <tr>\n",
              "      <th>1</th>\n",
              "      <td>വാങ്ങിയത് എന്ത് കുന്തം ആയാലും കളയാൻ പറ്റില്ലല്...</td>\n",
              "      <td>1</td>\n",
              "    </tr>\n",
              "    <tr>\n",
              "      <th>2</th>\n",
              "      <td>മാറുമറയ്ക്കാൻ നടത്തിയ സമരം ഒരു previlege issue...</td>\n",
              "      <td>0</td>\n",
              "    </tr>\n",
              "    <tr>\n",
              "      <th>3</th>\n",
              "      <td>ഇഷാനെ കൂടുതല് കെട്ടിപിടിക്കേണ്ട ഞങ്ങൾക്കറിയാം ...</td>\n",
              "      <td>1</td>\n",
              "    </tr>\n",
              "    <tr>\n",
              "      <th>4</th>\n",
              "      <td>ഇന്ത്യ ഇസ്‌ലാമിക രാജ്യമല്ല.. ഇന്ത്യൻ ഭരണഘടന മാ...</td>\n",
              "      <td>0</td>\n",
              "    </tr>\n",
              "    <tr>\n",
              "      <th>...</th>\n",
              "      <td>...</td>\n",
              "      <td>...</td>\n",
              "    </tr>\n",
              "    <tr>\n",
              "      <th>8559</th>\n",
              "      <td>Evan eatha eee pottan oru vivaravumilla</td>\n",
              "      <td>1</td>\n",
              "    </tr>\n",
              "    <tr>\n",
              "      <th>8560</th>\n",
              "      <td>Ithinu pakaramayi upayogikkan pattunna Indian ...</td>\n",
              "      <td>1</td>\n",
              "    </tr>\n",
              "    <tr>\n",
              "      <th>8561</th>\n",
              "      <td>സാറിന് നല്ലത് വരട്ടെ</td>\n",
              "      <td>1</td>\n",
              "    </tr>\n",
              "    <tr>\n",
              "      <th>8562</th>\n",
              "      <td>ഇങ്ങനത്തെ നല്ല നല്ല അറിവുകൾ പറഞ്ഞു തരുന്ന ഈ ഡോ...</td>\n",
              "      <td>0</td>\n",
              "    </tr>\n",
              "    <tr>\n",
              "      <th>8563</th>\n",
              "      <td>Happy wedding Anniverserygod bless you. കരയെല്...</td>\n",
              "      <td>0</td>\n",
              "    </tr>\n",
              "  </tbody>\n",
              "</table>\n",
              "<p>8564 rows × 2 columns</p>\n",
              "</div>"
            ],
            "text/plain": [
              "                                                 tweets  labels\n",
              "0     @arya s nair may be athile karthikayude charct...       1\n",
              "1     വാങ്ങിയത് എന്ത് കുന്തം ആയാലും കളയാൻ പറ്റില്ലല്...       1\n",
              "2     മാറുമറയ്ക്കാൻ നടത്തിയ സമരം ഒരു previlege issue...       0\n",
              "3     ഇഷാനെ കൂടുതല് കെട്ടിപിടിക്കേണ്ട ഞങ്ങൾക്കറിയാം ...       1\n",
              "4     ഇന്ത്യ ഇസ്‌ലാമിക രാജ്യമല്ല.. ഇന്ത്യൻ ഭരണഘടന മാ...       0\n",
              "...                                                 ...     ...\n",
              "8559            Evan eatha eee pottan oru vivaravumilla       1\n",
              "8560  Ithinu pakaramayi upayogikkan pattunna Indian ...       1\n",
              "8561                               സാറിന് നല്ലത് വരട്ടെ       1\n",
              "8562  ഇങ്ങനത്തെ നല്ല നല്ല അറിവുകൾ പറഞ്ഞു തരുന്ന ഈ ഡോ...       0\n",
              "8563  Happy wedding Anniverserygod bless you. കരയെല്...       0\n",
              "\n",
              "[8564 rows x 2 columns]"
            ]
          },
          "metadata": {
            "tags": []
          },
          "execution_count": 3
        }
      ]
    },
    {
      "cell_type": "code",
      "metadata": {
        "colab": {
          "base_uri": "https://localhost:8080/",
          "height": 415
        },
        "id": "Whp4CHwJOr8H",
        "outputId": "09b9c245-3a0c-4346-d0aa-410748f7a68c"
      },
      "source": [
        "val=pd.read_csv('/content/malayalam_hope_test.csv', sep=\";\")\r\n",
        "val['labels']=LabelEncoder().fit_transform(val['label'])\r\n",
        "val['tweets']=val['text']\r\n",
        "val=val.drop(columns=['label','Unnamed: 2','text'])\r\n",
        "val"
      ],
      "execution_count": 4,
      "outputs": [
        {
          "output_type": "execute_result",
          "data": {
            "text/html": [
              "<div>\n",
              "<style scoped>\n",
              "    .dataframe tbody tr th:only-of-type {\n",
              "        vertical-align: middle;\n",
              "    }\n",
              "\n",
              "    .dataframe tbody tr th {\n",
              "        vertical-align: top;\n",
              "    }\n",
              "\n",
              "    .dataframe thead th {\n",
              "        text-align: right;\n",
              "    }\n",
              "</style>\n",
              "<table border=\"1\" class=\"dataframe\">\n",
              "  <thead>\n",
              "    <tr style=\"text-align: right;\">\n",
              "      <th></th>\n",
              "      <th>labels</th>\n",
              "      <th>tweets</th>\n",
              "    </tr>\n",
              "  </thead>\n",
              "  <tbody>\n",
              "    <tr>\n",
              "      <th>0</th>\n",
              "      <td>1</td>\n",
              "      <td>അതെ അണപൊട്ടി ഒഴുകുകയാണ്</td>\n",
              "    </tr>\n",
              "    <tr>\n",
              "      <th>1</th>\n",
              "      <td>1</td>\n",
              "      <td>കെവിൻ avde pettupoyi🤣🤣🤣</td>\n",
              "    </tr>\n",
              "    <tr>\n",
              "      <th>2</th>\n",
              "      <td>1</td>\n",
              "      <td>@my voice ullup illa daaa tayoli ath kond alle...</td>\n",
              "    </tr>\n",
              "    <tr>\n",
              "      <th>3</th>\n",
              "      <td>2</td>\n",
              "      <td>@Albin Baiju</td>\n",
              "    </tr>\n",
              "    <tr>\n",
              "      <th>4</th>\n",
              "      <td>2</td>\n",
              "      <td>I respect you..</td>\n",
              "    </tr>\n",
              "    <tr>\n",
              "      <th>...</th>\n",
              "      <td>...</td>\n",
              "      <td>...</td>\n",
              "    </tr>\n",
              "    <tr>\n",
              "      <th>1066</th>\n",
              "      <td>1</td>\n",
              "      <td>ചേട്ടാ അതിന് ഇവിടെ ആരാണ് ഇന്ത്യൻ മൊബൈൽ റിവ്യൂ ...</td>\n",
              "    </tr>\n",
              "    <tr>\n",
              "      <th>1067</th>\n",
              "      <td>2</td>\n",
              "      <td>@surya ishaan</td>\n",
              "    </tr>\n",
              "    <tr>\n",
              "      <th>1068</th>\n",
              "      <td>1</td>\n",
              "      <td>ഏതാണ് ആ മൂലയിൽ ഇരിക്കുന്ന അപ്പൂപ്പൻ</td>\n",
              "    </tr>\n",
              "    <tr>\n",
              "      <th>1069</th>\n",
              "      <td>1</td>\n",
              "      <td>ഏതാ ആ ചൊമന്ന ടി ഷർട്ടിന് മേൽ കോട്ടിട്ട വവ്വാൽ...</td>\n",
              "    </tr>\n",
              "    <tr>\n",
              "      <th>1070</th>\n",
              "      <td>1</td>\n",
              "      <td>Poorru  angodu chellu</td>\n",
              "    </tr>\n",
              "  </tbody>\n",
              "</table>\n",
              "<p>1071 rows × 2 columns</p>\n",
              "</div>"
            ],
            "text/plain": [
              "      labels                                             tweets\n",
              "0          1                            അതെ അണപൊട്ടി ഒഴുകുകയാണ്\n",
              "1          1                            കെവിൻ avde pettupoyi🤣🤣🤣\n",
              "2          1  @my voice ullup illa daaa tayoli ath kond alle...\n",
              "3          2                                       @Albin Baiju\n",
              "4          2                                    I respect you..\n",
              "...      ...                                                ...\n",
              "1066       1  ചേട്ടാ അതിന് ഇവിടെ ആരാണ് ഇന്ത്യൻ മൊബൈൽ റിവ്യൂ ...\n",
              "1067       2                                      @surya ishaan\n",
              "1068       1                ഏതാണ് ആ മൂലയിൽ ഇരിക്കുന്ന അപ്പൂപ്പൻ\n",
              "1069       1   ഏതാ ആ ചൊമന്ന ടി ഷർട്ടിന് മേൽ കോട്ടിട്ട വവ്വാൽ...\n",
              "1070       1                              Poorru  angodu chellu\n",
              "\n",
              "[1071 rows x 2 columns]"
            ]
          },
          "metadata": {
            "tags": []
          },
          "execution_count": 4
        }
      ]
    },
    {
      "cell_type": "code",
      "metadata": {
        "colab": {
          "base_uri": "https://localhost:8080/"
        },
        "id": "WHvLyuUccN3O",
        "outputId": "967bdf96-66d2-41f1-97d6-8e519938c6d4"
      },
      "source": [
        "def punc(df):\r\n",
        "    df['tweets'] = df['tweets'].str.replace(r\"[+/#@&*$%:]\",'')\r\n",
        "    print(df)\r\n",
        "punc(train)\r\n",
        "punc(val)"
      ],
      "execution_count": 5,
      "outputs": [
        {
          "output_type": "stream",
          "text": [
            "                                                 tweets  labels\n",
            "0     arya s nair may be athile karthikayude charctr...       1\n",
            "1     വാങ്ങിയത് എന്ത് കുന്തം ആയാലും കളയാൻ പറ്റില്ലല്...       1\n",
            "2     മാറുമറയ്ക്കാൻ നടത്തിയ സമരം ഒരു previlege issue...       0\n",
            "3     ഇഷാനെ കൂടുതല് കെട്ടിപിടിക്കേണ്ട ഞങ്ങൾക്കറിയാം ...       1\n",
            "4     ഇന്ത്യ ഇസ്‌ലാമിക രാജ്യമല്ല.. ഇന്ത്യൻ ഭരണഘടന മാ...       0\n",
            "...                                                 ...     ...\n",
            "8559            Evan eatha eee pottan oru vivaravumilla       1\n",
            "8560  Ithinu pakaramayi upayogikkan pattunna Indian ...       1\n",
            "8561                               സാറിന് നല്ലത് വരട്ടെ       1\n",
            "8562  ഇങ്ങനത്തെ നല്ല നല്ല അറിവുകൾ പറഞ്ഞു തരുന്ന ഈ ഡോ...       0\n",
            "8563  Happy wedding Anniverserygod bless you. കരയെല്...       0\n",
            "\n",
            "[8564 rows x 2 columns]\n",
            "      labels                                             tweets\n",
            "0          1                            അതെ അണപൊട്ടി ഒഴുകുകയാണ്\n",
            "1          1                            കെവിൻ avde pettupoyi🤣🤣🤣\n",
            "2          1  my voice ullup illa daaa tayoli ath kond alle ...\n",
            "3          2                                        Albin Baiju\n",
            "4          2                                    I respect you..\n",
            "...      ...                                                ...\n",
            "1066       1  ചേട്ടാ അതിന് ഇവിടെ ആരാണ് ഇന്ത്യൻ മൊബൈൽ റിവ്യൂ ...\n",
            "1067       2                                       surya ishaan\n",
            "1068       1                ഏതാണ് ആ മൂലയിൽ ഇരിക്കുന്ന അപ്പൂപ്പൻ\n",
            "1069       1   ഏതാ ആ ചൊമന്ന ടി ഷർട്ടിന് മേൽ കോട്ടിട്ട വവ്വാൽ...\n",
            "1070       1                              Poorru  angodu chellu\n",
            "\n",
            "[1071 rows x 2 columns]\n"
          ],
          "name": "stdout"
        }
      ]
    },
    {
      "cell_type": "code",
      "metadata": {
        "id": "lMd3ZHtlPpLv"
      },
      "source": [
        "import pandas as pd\r\n",
        "from torch.utils.data import Dataset,DataLoader\r\n",
        "\r\n",
        "class RFDataset(Dataset):\r\n",
        "  def __init__(self,tweets,labels,tokenizer,max_len):\r\n",
        "    self.tweets = tweets\r\n",
        "    self.labels = labels\r\n",
        "    self.tokenizer = tokenizer\r\n",
        "    self.max_len = max_len\r\n",
        "  \r\n",
        "  def __len__(self):\r\n",
        "    return len(self.tweets)\r\n",
        "  \r\n",
        "  def __getitem__(self,item):\r\n",
        "    tweets = str(self.tweets[item])\r\n",
        "    labels = self.labels[item]\r\n",
        "\r\n",
        "    encoding = self.tokenizer.encode_plus(\r\n",
        "        tweets,\r\n",
        "        add_special_tokens=True,\r\n",
        "        max_length = self.max_len,\r\n",
        "        return_token_type_ids = False,\r\n",
        "        padding = 'max_length',\r\n",
        "        return_attention_mask= True,\r\n",
        "        return_tensors='pt',\r\n",
        "        truncation=True\r\n",
        "    )\r\n",
        "\r\n",
        "    return {\r\n",
        "        'tweets' : tweets,\r\n",
        "        'input_ids' : encoding['input_ids'].flatten(),\r\n",
        "        'attention_mask' : encoding['attention_mask'].flatten(),\r\n",
        "        'labels' : torch.tensor(labels,dtype=torch.long)\r\n",
        "\r\n",
        "    }"
      ],
      "execution_count": 6,
      "outputs": []
    },
    {
      "cell_type": "code",
      "metadata": {
        "colab": {
          "base_uri": "https://localhost:8080/"
        },
        "id": "mDdVdA1bQlUF",
        "outputId": "9fd1e683-32fd-4a44-a5c9-f6e9cecd5ef2"
      },
      "source": [
        " \r\n",
        "print('Training set size:',train.shape)\r\n",
        "#Uncomment the next line when we have the test data\r\n",
        "#print('Testing set size:',test.shape)\r\n",
        "print('validation set size:',val.shape)"
      ],
      "execution_count": 7,
      "outputs": [
        {
          "output_type": "stream",
          "text": [
            "Training set size: (8564, 2)\n",
            "validation set size: (1071, 2)\n"
          ],
          "name": "stdout"
        }
      ]
    },
    {
      "cell_type": "code",
      "metadata": {
        "colab": {
          "base_uri": "https://localhost:8080/"
        },
        "id": "ZFA6pybHQwOX",
        "outputId": "23a18e0a-cd2c-45cd-90a9-708741c0d629"
      },
      "source": [
        "import numpy as np\r\n",
        "\r\n",
        "from sklearn.utils import class_weight\r\n",
        "class_weights = class_weight.compute_class_weight('balanced',\r\n",
        "                                                  np.unique(train.labels.values),\r\n",
        "                                                  train.labels.values)\r\n",
        "class_weights"
      ],
      "execution_count": 8,
      "outputs": [
        {
          "output_type": "execute_result",
          "data": {
            "text/plain": [
              "array([1.71143086, 0.46005909, 4.13121081])"
            ]
          },
          "metadata": {
            "tags": []
          },
          "execution_count": 8
        }
      ]
    },
    {
      "cell_type": "code",
      "metadata": {
        "id": "JrS3mf4RQyy9"
      },
      "source": [
        "def create_data_loader(df,tokenizer,max_len,batch_size):\r\n",
        "  ds = RFDataset(\r\n",
        "      tweets = df.tweets.to_numpy(),\r\n",
        "      labels = df.labels.to_numpy(),\r\n",
        "      tokenizer = tokenizer,\r\n",
        "      max_len = max_len\r\n",
        "  )\r\n",
        "\r\n",
        "  return DataLoader(ds,\r\n",
        "                    batch_size = batch_size,\r\n",
        "                    shuffle = True,\r\n",
        "                    num_workers=4)"
      ],
      "execution_count": 9,
      "outputs": []
    },
    {
      "cell_type": "code",
      "metadata": {
        "id": "r5HC7hmTQ1zg"
      },
      "source": [
        "from transformers import XLNetTokenizer,XLNetModel,AdamW,get_linear_schedule_with_warmup,AutoModel,AutoTokenizer\r\n",
        "device = 'cuda'\r\n",
        "PRE_TRAINED_MODEL_NAME = 'distilbert-base-multilingual-cased'\r\n",
        "tokenizer = AutoTokenizer.from_pretrained(PRE_TRAINED_MODEL_NAME)\r\n"
      ],
      "execution_count": 10,
      "outputs": []
    },
    {
      "cell_type": "code",
      "metadata": {
        "id": "r_c7oQlUQ4ED"
      },
      "source": [
        "BATCH_SIZE = 32\r\n",
        "MAX_LEN = 128\r\n",
        "train_data_loader = create_data_loader(train,tokenizer,MAX_LEN,BATCH_SIZE)\r\n",
        "val_data_loader = create_data_loader(val,tokenizer,MAX_LEN,BATCH_SIZE)"
      ],
      "execution_count": 11,
      "outputs": []
    },
    {
      "cell_type": "code",
      "metadata": {
        "id": "vtkIQTq3Q6-b"
      },
      "source": [
        "BERT_model = AutoModel.from_pretrained(PRE_TRAINED_MODEL_NAME)"
      ],
      "execution_count": 12,
      "outputs": []
    },
    {
      "cell_type": "code",
      "metadata": {
        "id": "ELD76HMVQ9HQ"
      },
      "source": [
        "class DistillBERTClass(torch.nn.Module):\r\n",
        "    def __init__(self):\r\n",
        "        super(DistillBERTClass, self).__init__()\r\n",
        "        self.l1 = AutoModel.from_pretrained(\"distilbert-base-multilingual-cased\")\r\n",
        "        self.pre_classifier = torch.nn.Linear(768, 768)\r\n",
        "        self.dropout = torch.nn.Dropout(0.3)\r\n",
        "        self.classifier = torch.nn.Linear(768, 5)\r\n",
        "\r\n",
        "    def forward(self, input_ids, attention_mask):\r\n",
        "        output_1 = self.l1(input_ids=input_ids, attention_mask=attention_mask)\r\n",
        "        hidden_state = output_1[0]\r\n",
        "        pooler = hidden_state[:, 0]\r\n",
        "        pooler = self.pre_classifier(pooler)\r\n",
        "        pooler = torch.nn.ReLU()(pooler)\r\n",
        "        pooler = self.dropout(pooler)\r\n",
        "        output = self.classifier(pooler)\r\n",
        "        return output"
      ],
      "execution_count": 27,
      "outputs": []
    },
    {
      "cell_type": "code",
      "metadata": {
        "id": "VzOmQqNyRAqg"
      },
      "source": [
        "model = DistillBERTClass()\r\n",
        "model = model.to(device)"
      ],
      "execution_count": 28,
      "outputs": []
    },
    {
      "cell_type": "code",
      "metadata": {
        "id": "gxxmEAKvRC5H"
      },
      "source": [
        "EPOCHS = 5\r\n",
        "optimizer = AdamW(model.parameters(), lr=2e-5, correct_bias=False)\r\n",
        "total_steps = len(train_data_loader) * EPOCHS\r\n",
        "scheduler = get_linear_schedule_with_warmup(\r\n",
        "  optimizer,\r\n",
        "  num_warmup_steps=0,\r\n",
        "  num_training_steps=total_steps\r\n",
        ")\r\n",
        "\r\n",
        "loss_fn = nn.CrossEntropyLoss().to(device)"
      ],
      "execution_count": 29,
      "outputs": []
    },
    {
      "cell_type": "code",
      "metadata": {
        "id": "7x444fs7R0oz"
      },
      "source": [
        "def train_epoch(model,data_loader,loss_fn,optimizer,device,scheduler,n_examples):\r\n",
        "    model = model.train()\r\n",
        "    losses = []\r\n",
        "    correct_predictions = 0\r\n",
        "\r\n",
        "    for data in data_loader:\r\n",
        "        input_ids = data['input_ids'].to(device)\r\n",
        "        attention_mask = data['attention_mask'].to(device)\r\n",
        "        labels = data['labels'].to(device)\r\n",
        "\r\n",
        "        outputs = model(\r\n",
        "            input_ids=input_ids,\r\n",
        "            attention_mask=attention_mask\r\n",
        "            )\r\n",
        "        _, preds = torch.max(outputs, dim=1)\r\n",
        "        loss = loss_fn(outputs,labels)\r\n",
        "\r\n",
        "        correct_predictions += torch.sum(preds == labels)\r\n",
        "        losses.append(loss.item())\r\n",
        "\r\n",
        "        loss.backward()\r\n",
        "        nn.utils.clip_grad_norm_(model.parameters(), max_norm=1.0)\r\n",
        "        optimizer.step()\r\n",
        "        scheduler.step()\r\n",
        "        optimizer.zero_grad()\r\n",
        "\r\n",
        "    return correct_predictions.double() / n_examples, np.mean(losses)"
      ],
      "execution_count": 30,
      "outputs": []
    },
    {
      "cell_type": "code",
      "metadata": {
        "id": "tGTlOJP3R2rX"
      },
      "source": [
        "def eval_model(model, data_loader, loss_fn, device, n_examples):\r\n",
        "  model = model.eval()\r\n",
        "  losses = []\r\n",
        "  correct_predictions = 0\r\n",
        "  with torch.no_grad():\r\n",
        "    for d in data_loader:\r\n",
        "      input_ids = d[\"input_ids\"].to(device)\r\n",
        "      attention_mask = d[\"attention_mask\"].to(device)\r\n",
        "      labels = d[\"labels\"].to(device)\r\n",
        "      outputs = model(\r\n",
        "        input_ids=input_ids,\r\n",
        "        attention_mask=attention_mask\r\n",
        "      )\r\n",
        "      _, preds = torch.max(outputs, dim=1)\r\n",
        "      loss = loss_fn(outputs, labels)\r\n",
        "      correct_predictions += torch.sum(preds == labels)\r\n",
        "      losses.append(loss.item())\r\n",
        "  return correct_predictions.double() / n_examples, np.mean(losses)"
      ],
      "execution_count": 31,
      "outputs": []
    },
    {
      "cell_type": "code",
      "metadata": {
        "id": "nvBZLbZAR4wN"
      },
      "source": [
        "\r\n",
        "import time\r\n",
        "\r\n",
        "def epoch_time(start_time, end_time):\r\n",
        "    elapsed_time = end_time - start_time\r\n",
        "    elapsed_mins = int(elapsed_time / 60)\r\n",
        "    elapsed_secs = int(elapsed_time - (elapsed_mins * 60))\r\n",
        "    return elapsed_mins, elapsed_secs"
      ],
      "execution_count": 32,
      "outputs": []
    },
    {
      "cell_type": "code",
      "metadata": {
        "id": "hN5SVoUVR6kL",
        "colab": {
          "base_uri": "https://localhost:8080/"
        },
        "outputId": "7886ea77-4a9f-4c96-f862-7cc1c669af79"
      },
      "source": [
        "from collections import defaultdict\r\n",
        "import torch\r\n",
        " \r\n",
        "history = defaultdict(list)\r\n",
        "best_accuracy = 0\r\n",
        "for epoch in range(EPOCHS):\r\n",
        " \r\n",
        " \r\n",
        "  start_time = time.time()\r\n",
        "  train_acc,train_loss = train_epoch(\r\n",
        "      model,\r\n",
        "      train_data_loader,\r\n",
        "      loss_fn,\r\n",
        "      optimizer,\r\n",
        "      device,\r\n",
        "      scheduler,\r\n",
        "      len(train)\r\n",
        "  )\r\n",
        "   \r\n",
        " \r\n",
        "  val_acc,val_loss = eval_model(\r\n",
        "      model,\r\n",
        "      val_data_loader,\r\n",
        "      loss_fn,\r\n",
        "      device,\r\n",
        "      len(val)\r\n",
        "  )\r\n",
        "\r\n",
        "  end_time = time.time()\r\n",
        "  epoch_mins, epoch_secs = epoch_time(start_time, end_time)\r\n",
        "  print(f'Epoch: {epoch+1:02} | Epoch Time: {epoch_mins}m {epoch_secs}s')\r\n",
        "  print(f'Train Loss {train_loss} accuracy {train_acc}')\r\n",
        "  print(f'Val Loss {val_loss} accuracy {val_acc}')\r\n",
        "  print()\r\n",
        "\r\n",
        "  history['train_acc'].append(train_acc)\r\n",
        "  history['train_loss'].append(train_loss)\r\n",
        "  history['val_acc'].append(val_acc)\r\n",
        "  history['val_loss'].append(val_loss)\r\n",
        "\r\n",
        "  if train_acc > best_accuracy:\r\n",
        "     \r\n",
        "    best_accuracy = train_acc\r\n",
        "torch.save(model.state_dict(),'distilbert-base-multilingual-cased.bin')"
      ],
      "execution_count": 33,
      "outputs": [
        {
          "output_type": "stream",
          "text": [
            "Epoch: 01 | Epoch Time: 1m 43s\n",
            "Train Loss 0.5432903575919458 accuracy 0.7770901447921531\n",
            "Val Loss 0.44060492603217855 accuracy 0.8095238095238095\n",
            "\n",
            "Epoch: 02 | Epoch Time: 1m 42s\n",
            "Train Loss 0.3513047324854936 accuracy 0.8521718822979916\n",
            "Val Loss 0.4079781941631261 accuracy 0.8515406162464987\n",
            "\n",
            "Epoch: 03 | Epoch Time: 1m 43s\n",
            "Train Loss 0.2528145033032147 accuracy 0.8980616534329752\n",
            "Val Loss 0.43414106044699163 accuracy 0.8440709617180205\n",
            "\n",
            "Epoch: 04 | Epoch Time: 1m 42s\n",
            "Train Loss 0.19982102791320033 accuracy 0.923633815973844\n",
            "Val Loss 0.47052497592042475 accuracy 0.8366013071895425\n",
            "\n",
            "Epoch: 05 | Epoch Time: 1m 43s\n",
            "Train Loss 0.16028548683971167 accuracy 0.9399813171415226\n",
            "Val Loss 0.5119269463945838 accuracy 0.8403361344537815\n",
            "\n"
          ],
          "name": "stdout"
        }
      ]
    },
    {
      "cell_type": "code",
      "metadata": {
        "id": "pXpyt4kPR8Qo",
        "colab": {
          "base_uri": "https://localhost:8080/",
          "height": 295
        },
        "outputId": "ea29c091-b29c-4c0b-d74b-99efad6afb75"
      },
      "source": [
        "import matplotlib.pyplot as plt\r\n",
        "plt.plot(history['train_acc'], label='train accuracy')\r\n",
        "plt.plot(history['val_acc'], label='validation accuracy')\r\n",
        "plt.title('Training history')\r\n",
        "plt.ylabel('Accuracy')\r\n",
        "plt.xlabel('Epoch')\r\n",
        "plt.legend()\r\n",
        "plt.ylim([0, 1]);"
      ],
      "execution_count": 34,
      "outputs": [
        {
          "output_type": "display_data",
          "data": {
            "image/png": "[encoded data removed]",
            "text/plain": [
              "<Figure size 432x288 with 1 Axes>"
            ]
          },
          "metadata": {
            "tags": [],
            "needs_background": "light"
          }
        }
      ]
    },
    {
      "cell_type": "code",
      "metadata": {
        "colab": {
          "base_uri": "https://localhost:8080/"
        },
        "id": "i4jnJ_DeVChr",
        "outputId": "159e88e0-1ba7-40da-ca1e-1db1ad170b95"
      },
      "source": [
        "val_acc, _ = eval_model(\r\n",
        "  model,\r\n",
        "  val_data_loader,\r\n",
        "  loss_fn,\r\n",
        "  device,\r\n",
        "  len(val) #Change it to test when you have the test results\r\n",
        ")\r\n",
        "val_acc.item()"
      ],
      "execution_count": 35,
      "outputs": [
        {
          "output_type": "execute_result",
          "data": {
            "text/plain": [
              "0.8403361344537815"
            ]
          },
          "metadata": {
            "tags": []
          },
          "execution_count": 35
        }
      ]
    },
    {
      "cell_type": "code",
      "metadata": {
        "id": "WrOtx2a1VFPV"
      },
      "source": [
        "def get_predictions(model, data_loader):\r\n",
        "  model = model.eval()\r\n",
        "  sentence = []\r\n",
        "  predictions = []\r\n",
        "  prediction_probs = []\r\n",
        "  real_values = []\r\n",
        "  with torch.no_grad():\r\n",
        "    for d in data_loader:\r\n",
        "      tweets = d[\"tweets\"]\r\n",
        "      input_ids = d[\"input_ids\"].to(device)\r\n",
        "      attention_mask = d[\"attention_mask\"].to(device)\r\n",
        "      labels = d[\"labels\"].to(device)\r\n",
        "      outputs = model(\r\n",
        "        input_ids=input_ids,\r\n",
        "        attention_mask=attention_mask\r\n",
        "      )\r\n",
        "      _, preds = torch.max(outputs, dim=1)\r\n",
        "      sentence.extend(tweets)\r\n",
        "      predictions.extend(preds)\r\n",
        "      prediction_probs.extend(outputs)\r\n",
        "      real_values.extend(labels)\r\n",
        "  predictions = torch.stack(predictions).cpu()\r\n",
        "  prediction_probs = torch.stack(prediction_probs).cpu()\r\n",
        "  real_values = torch.stack(real_values).cpu()\r\n",
        "  return sentence, predictions, prediction_probs, real_values"
      ],
      "execution_count": 36,
      "outputs": []
    },
    {
      "cell_type": "code",
      "metadata": {
        "id": "2A6ySmh7VNeo"
      },
      "source": [
        "\r\n",
        "y_review_texts, y_pred, y_pred_probs, y_test = get_predictions(\r\n",
        "  model,\r\n",
        "  val_data_loader\r\n",
        ")"
      ],
      "execution_count": 37,
      "outputs": []
    },
    {
      "cell_type": "code",
      "metadata": {
        "id": "YdnRltryVRuD"
      },
      "source": [
        "class_name = ['Hope_speech','Non_hope_speech','not-Malayalam']"
      ],
      "execution_count": 38,
      "outputs": []
    },
    {
      "cell_type": "code",
      "metadata": {
        "colab": {
          "base_uri": "https://localhost:8080/"
        },
        "id": "7AbMa4soViJ-",
        "outputId": "b4842eaa-a775-4960-f0ce-95ca87602367"
      },
      "source": [
        "from sklearn.metrics import classification_report,confusion_matrix\r\n",
        "print(classification_report(y_test, y_pred, target_names=class_name,zero_division=0, digits=4))"
      ],
      "execution_count": 39,
      "outputs": [
        {
          "output_type": "stream",
          "text": [
            "                 precision    recall  f1-score   support\n",
            "\n",
            "    Hope_speech     0.6373    0.6340    0.6357       194\n",
            "Non_hope_speech     0.8865    0.9059    0.8961       776\n",
            "  not-Malayalam     0.8706    0.7327    0.7957       101\n",
            "\n",
            "       accuracy                         0.8403      1071\n",
            "      macro avg     0.7981    0.7575    0.7758      1071\n",
            "   weighted avg     0.8399    0.8403    0.8395      1071\n",
            "\n"
          ],
          "name": "stdout"
        }
      ]
    },
    {
      "cell_type": "code",
      "metadata": {
        "colab": {
          "base_uri": "https://localhost:8080/",
          "height": 327
        },
        "id": "twdTb-qhVlbe",
        "outputId": "557aaad5-34f3-41cb-b3dd-4e3f75ab693d"
      },
      "source": [
        "import seaborn as sns\r\n",
        "def show_confusion_matrix(confusion_matrix):\r\n",
        "  hmap = sns.heatmap(confusion_matrix, annot=True, fmt=\"d\", cmap=\"Blues\")\r\n",
        "  hmap.yaxis.set_ticklabels(hmap.yaxis.get_ticklabels(), rotation=0, ha='right')\r\n",
        "  hmap.xaxis.set_ticklabels(hmap.xaxis.get_ticklabels(), rotation=30, ha='right')\r\n",
        "  plt.ylabel('True sentiment')\r\n",
        "  plt.xlabel('Predicted sentiment');\r\n",
        "cm = confusion_matrix(y_test, y_pred)\r\n",
        "df_cm = pd.DataFrame(cm, index=class_name, columns=class_name)\r\n",
        "show_confusion_matrix(df_cm)"
      ],
      "execution_count": 40,
      "outputs": [
        {
          "output_type": "display_data",
          "data": {
            "image/png": "[encoded data removed]",
            "text/plain": [
              "<Figure size 432x288 with 2 Axes>"
            ]
          },
          "metadata": {
            "tags": [],
            "needs_background": "light"
          }
        }
      ]
    }
  ]
}